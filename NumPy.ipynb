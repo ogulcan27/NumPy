{
 "cells": [
  {
   "cell_type": "markdown",
   "id": "6d950370",
   "metadata": {},
   "source": [
    "# NumPy (Numeric Python) Nedir?"
   ]
  },
  {
   "cell_type": "markdown",
   "id": "21793eb6",
   "metadata": {},
   "source": [
    "--> NumPy, Python'da bilimsel hesaplama için temel pakettir. Çok boyutlu bir dizi nesnesi, çeşitli türetilmiş nesneler (maskelenmiş diziler ve matrisler gibi) ve diziler üzerinde matematiksel, mantıksal, şekil işleme, sıralama, seçme, G/Ç dahil olmak üzere hızlı işlemler için çeşitli rutinler sağlayan bir Python kitaplığıdır. Ayrık Fourier dönüşümleri, temel doğrusal cebir, temel istatistiksel işlemler, rastgele simülasyon ve çok daha fazlasını yapmaya yarayan bir Python kitaplığıdır.\n",
    "\n",
    "--> NumPy paketinin merkezinde \"ndarray\" nesnesi bulunur. Bu, performans için derlenmiş kodda gerçekleştirilen birçok işlemle birlikte, homojen veri türlerinin n boyutlu dizilerini kapsar. NumPy dizileri ile standart Python dizileri arasında birkaç önemli farklar vardır:\n",
    "\n",
    "> NumPy dizileri, Python listelerinin (dinamik olarak büyüyebilen) aksine, oluşturulurken sabit bir boyuta sahiptir. Bir ndarray'in boyutunu değiştirmek, yeni bir dizi oluşturacak ve orijinali silecektir.\n",
    "\n",
    "> NumPy dizisindeki öğelerin hepsinin aynı veri türünde olması gerekir ve bu nedenle bellekte aynı boyutta olacaktır. İstisna: bir (Python, NumPy dahil) nesne dizilerine sahip olabilir, böylece farklı büyüklükteki öğelerin dizilerine izin verilir.\n",
    "\n",
    "> NumPy dizileri, çok sayıda veri üzerinde gelişmiş matematiksel ve diğer türdeki işlemleri kolaylaştırır. Tipik olarak, bu tür işlemler Python'un yerleşik dizileri kullanılarak mümkün olandan daha verimli ve daha az kodla yürütülür.\n",
    "\n",
    "> Artan sayıda bilimsel ve matematiksel Python tabanlı paketler NumPy dizilerini kullanıyor; Bunlar tipik olarak Python dizisi girişini desteklese de, bu girişi işlemeden önce NumPy dizilerine dönüştürürler ve genellikle NumPy dizilerinin çıktısını alırlar. Başka bir deyişle, günümüzün bilimsel/matematiksel Python tabanlı yazılımlarının çoğunu (belki de çoğunu) verimli bir şekilde kullanmak için, yalnızca Python'un yerleşik dizi türlerini nasıl kullanacağınızı bilmek yetersizdir - ayrıca NumPy dizilerinin nasıl kullanılacağını da bilmek gerekir."
   ]
  },
  {
   "cell_type": "markdown",
   "id": "e636e92a",
   "metadata": {},
   "source": [
    "## NumPy Kütüphanesini Çağırma ve Dizi Oluşturma "
   ]
  },
  {
   "cell_type": "code",
   "execution_count": 1,
   "id": "48d47f0a",
   "metadata": {},
   "outputs": [],
   "source": [
    "import numpy as np"
   ]
  },
  {
   "cell_type": "code",
   "execution_count": 2,
   "id": "423a921b",
   "metadata": {},
   "outputs": [
    {
     "name": "stdout",
     "output_type": "stream",
     "text": [
      "[]\n"
     ]
    }
   ],
   "source": [
    "vectory_empty = np.array([]) #NumPy ile boş bir dizi oluşturduk.\n",
    "print(vectory_empty)"
   ]
  },
  {
   "cell_type": "code",
   "execution_count": 3,
   "id": "cd7faeaa",
   "metadata": {},
   "outputs": [
    {
     "name": "stdout",
     "output_type": "stream",
     "text": [
      "[ 3  4 -5  6  8]\n"
     ]
    }
   ],
   "source": [
    "vectory_initialized = np.array([3,4,-5,6,8]) #NumPy ile dolu bir dizi oluşturduk\n",
    "print(vectory_initialized)"
   ]
  },
  {
   "cell_type": "markdown",
   "id": "a7b1cd59",
   "metadata": {},
   "source": [
    "+ NumPy ile oluşturduğumuz dizi Python'un dizisi olmamasına rağmen Python'un dizisi gibi kullanılabiliyor."
   ]
  },
  {
   "cell_type": "code",
   "execution_count": 4,
   "id": "4a41aeb6",
   "metadata": {},
   "outputs": [
    {
     "name": "stdout",
     "output_type": "stream",
     "text": [
      "3\n",
      "4\n",
      "-5\n",
      "6\n",
      "8\n"
     ]
    }
   ],
   "source": [
    "for i in vectory_initialized:\n",
    "    print(i)"
   ]
  },
  {
   "cell_type": "markdown",
   "id": "325751a8",
   "metadata": {},
   "source": [
    "## Diziye Eleman Ekleme ve Silme  "
   ]
  },
  {
   "cell_type": "code",
   "execution_count": 5,
   "id": "6b03c1e1",
   "metadata": {},
   "outputs": [],
   "source": [
    "vector = np.array([6,4,3,9,8])"
   ]
  },
  {
   "cell_type": "code",
   "execution_count": 6,
   "id": "382bd0bd",
   "metadata": {},
   "outputs": [
    {
     "data": {
      "text/plain": [
       "array([6, 4, 3, 9, 8])"
      ]
     },
     "execution_count": 6,
     "metadata": {},
     "output_type": "execute_result"
    }
   ],
   "source": [
    "vector"
   ]
  },
  {
   "cell_type": "code",
   "execution_count": 7,
   "id": "fca766d4",
   "metadata": {},
   "outputs": [
    {
     "data": {
      "text/plain": [
       "array([ 6,  4,  3,  9,  8, 11])"
      ]
     },
     "execution_count": 7,
     "metadata": {},
     "output_type": "execute_result"
    }
   ],
   "source": [
    "np.append(vector,11)"
   ]
  },
  {
   "cell_type": "code",
   "execution_count": 8,
   "id": "3db2848d",
   "metadata": {},
   "outputs": [
    {
     "data": {
      "text/plain": [
       "array([6, 4, 5, 3, 9, 8])"
      ]
     },
     "execution_count": 8,
     "metadata": {},
     "output_type": "execute_result"
    }
   ],
   "source": [
    "np.insert(vector,2,5)"
   ]
  },
  {
   "cell_type": "code",
   "execution_count": 9,
   "id": "f29481dc",
   "metadata": {},
   "outputs": [
    {
     "data": {
      "text/plain": [
       "array([6, 4, 3, 8])"
      ]
     },
     "execution_count": 9,
     "metadata": {},
     "output_type": "execute_result"
    }
   ],
   "source": [
    "np.delete(vector,3)"
   ]
  },
  {
   "cell_type": "markdown",
   "id": "8c46ed3f",
   "metadata": {},
   "source": [
    "+ Dikkat edersek her bir işlem yeni bir dizi yaratıyor. Yani vector üzerine append, insert, delete işlemlerini uyguladığımızda Mevcut dizide işlem yapmak yerine yeni bir dizi oluşuturup yapıyor"
   ]
  },
  {
   "cell_type": "code",
   "execution_count": 10,
   "id": "0d700b0d",
   "metadata": {},
   "outputs": [
    {
     "data": {
      "text/plain": [
       "array([6, 4, 3, 9, 8])"
      ]
     },
     "execution_count": 10,
     "metadata": {},
     "output_type": "execute_result"
    }
   ],
   "source": [
    "vector "
   ]
  },
  {
   "cell_type": "markdown",
   "id": "af4370fd",
   "metadata": {},
   "source": [
    "## Dizinin Türünü Gösterme  "
   ]
  },
  {
   "cell_type": "code",
   "execution_count": 11,
   "id": "28a2ba53",
   "metadata": {},
   "outputs": [
    {
     "name": "stdout",
     "output_type": "stream",
     "text": [
      "Tür: int32\n"
     ]
    }
   ],
   "source": [
    "vector_1 = np.array([6,2,7,3,8])\n",
    "print(\"Tür:\", vector.dtype)"
   ]
  },
  {
   "cell_type": "markdown",
   "id": "06ababd7",
   "metadata": {},
   "source": [
    "+ Sadece 1 tanesinin float olması, türü float olarak göstermesine neden olur"
   ]
  },
  {
   "cell_type": "code",
   "execution_count": 12,
   "id": "09ac0827",
   "metadata": {},
   "outputs": [
    {
     "name": "stdout",
     "output_type": "stream",
     "text": [
      "Tür: float64\n"
     ]
    }
   ],
   "source": [
    "vector_2 = np.array([6,2,7.5,3,8]) \n",
    "print(f\"Tür: {vector_2.dtype}\")"
   ]
  },
  {
   "cell_type": "code",
   "execution_count": 13,
   "id": "6de1b582",
   "metadata": {},
   "outputs": [
    {
     "name": "stdout",
     "output_type": "stream",
     "text": [
      "Tür: int64\n"
     ]
    }
   ],
   "source": [
    "vector_3 = np.array([6,2,7,8], np.int64)\n",
    "print(\"Tür:\", vector_3.dtype)"
   ]
  },
  {
   "cell_type": "markdown",
   "id": "ec94b5e4",
   "metadata": {},
   "source": [
    "## Yuvarlama "
   ]
  },
  {
   "cell_type": "code",
   "execution_count": 14,
   "id": "9fbdb548",
   "metadata": {},
   "outputs": [],
   "source": [
    "real = np.array([6.4325, 2.5436, 7.5436, 3.5432, 8.9543])"
   ]
  },
  {
   "cell_type": "code",
   "execution_count": 15,
   "id": "3de4f714",
   "metadata": {},
   "outputs": [
    {
     "data": {
      "text/plain": [
       "array([6.4325, 2.5436, 7.5436, 3.5432, 8.9543])"
      ]
     },
     "execution_count": 15,
     "metadata": {},
     "output_type": "execute_result"
    }
   ],
   "source": [
    "real"
   ]
  },
  {
   "cell_type": "markdown",
   "id": "4cd1b869",
   "metadata": {},
   "source": [
    "##### np.around() yuvarlama yapar (Aslında virgülden sonraki kısımları atar) "
   ]
  },
  {
   "cell_type": "code",
   "execution_count": 16,
   "id": "4c03c842",
   "metadata": {},
   "outputs": [],
   "source": [
    "rounds = np.around(real)"
   ]
  },
  {
   "cell_type": "code",
   "execution_count": 17,
   "id": "89f816de",
   "metadata": {},
   "outputs": [
    {
     "data": {
      "text/plain": [
       "array([6., 3., 8., 4., 9.])"
      ]
     },
     "execution_count": 17,
     "metadata": {},
     "output_type": "execute_result"
    }
   ],
   "source": [
    "rounds"
   ]
  },
  {
   "cell_type": "markdown",
   "id": "bfa52a0f",
   "metadata": {},
   "source": [
    "##### Yuvarlama yapmamız dizinin türünü değiştirmez "
   ]
  },
  {
   "cell_type": "code",
   "execution_count": 18,
   "id": "e07409e2",
   "metadata": {},
   "outputs": [
    {
     "data": {
      "text/plain": [
       "dtype('float64')"
      ]
     },
     "execution_count": 18,
     "metadata": {},
     "output_type": "execute_result"
    }
   ],
   "source": [
    "rounds.dtype "
   ]
  },
  {
   "cell_type": "markdown",
   "id": "e19933e5",
   "metadata": {},
   "source": [
    "##### decimals parametresi ile küsüratın kaç basamağını istediğimizi belirtebiliriz "
   ]
  },
  {
   "cell_type": "code",
   "execution_count": 19,
   "id": "ca0ac888",
   "metadata": {},
   "outputs": [],
   "source": [
    "rounders = np.around(real, decimals = 2)"
   ]
  },
  {
   "cell_type": "code",
   "execution_count": 20,
   "id": "c0cd7f88",
   "metadata": {},
   "outputs": [
    {
     "data": {
      "text/plain": [
       "array([6.43, 2.54, 7.54, 3.54, 8.95])"
      ]
     },
     "execution_count": 20,
     "metadata": {},
     "output_type": "execute_result"
    }
   ],
   "source": [
    "rounders"
   ]
  },
  {
   "cell_type": "markdown",
   "id": "704eb9a9",
   "metadata": {},
   "source": [
    "## Matematiksel İşlemler ve Diğer Farklı Komutlar"
   ]
  },
  {
   "cell_type": "code",
   "execution_count": 21,
   "id": "96e92775",
   "metadata": {},
   "outputs": [],
   "source": [
    "vector1 = np.array([1.1,1.2,1.3])\n",
    "vector2 = np.array([2.1,2.2,2.3])"
   ]
  },
  {
   "cell_type": "markdown",
   "id": "90a069be",
   "metadata": {},
   "source": [
    "##### Toplama "
   ]
  },
  {
   "cell_type": "code",
   "execution_count": 22,
   "id": "d30bc31e",
   "metadata": {},
   "outputs": [],
   "source": [
    "added = np.add(vector1, vector2)"
   ]
  },
  {
   "cell_type": "code",
   "execution_count": 23,
   "id": "21c819c5",
   "metadata": {},
   "outputs": [
    {
     "data": {
      "text/plain": [
       "array([3.2, 3.4, 3.6])"
      ]
     },
     "execution_count": 23,
     "metadata": {},
     "output_type": "execute_result"
    }
   ],
   "source": [
    "added"
   ]
  },
  {
   "cell_type": "markdown",
   "id": "c3585d9c",
   "metadata": {},
   "source": [
    "##### Çıkarma "
   ]
  },
  {
   "cell_type": "code",
   "execution_count": 24,
   "id": "611fac2b",
   "metadata": {},
   "outputs": [],
   "source": [
    "substracted = np.subtract(vector1, vector2)"
   ]
  },
  {
   "cell_type": "code",
   "execution_count": 25,
   "id": "83078c58",
   "metadata": {},
   "outputs": [
    {
     "data": {
      "text/plain": [
       "array([-1., -1., -1.])"
      ]
     },
     "execution_count": 25,
     "metadata": {},
     "output_type": "execute_result"
    }
   ],
   "source": [
    "substracted"
   ]
  },
  {
   "cell_type": "markdown",
   "id": "e4585bd5",
   "metadata": {},
   "source": [
    "##### Çarpma "
   ]
  },
  {
   "cell_type": "code",
   "execution_count": 26,
   "id": "e0f90377",
   "metadata": {},
   "outputs": [],
   "source": [
    "multipled = np.multiply(vector1, vector2)"
   ]
  },
  {
   "cell_type": "code",
   "execution_count": 27,
   "id": "1d3fcc85",
   "metadata": {},
   "outputs": [
    {
     "data": {
      "text/plain": [
       "array([2.31, 2.64, 2.99])"
      ]
     },
     "execution_count": 27,
     "metadata": {},
     "output_type": "execute_result"
    }
   ],
   "source": [
    "multipled"
   ]
  },
  {
   "cell_type": "markdown",
   "id": "c10708b8",
   "metadata": {},
   "source": [
    "##### Bölme "
   ]
  },
  {
   "cell_type": "code",
   "execution_count": 28,
   "id": "8af5c45c",
   "metadata": {},
   "outputs": [],
   "source": [
    "divided = np.divide(vector1, vector2)"
   ]
  },
  {
   "cell_type": "code",
   "execution_count": 29,
   "id": "3e5d3970",
   "metadata": {},
   "outputs": [
    {
     "data": {
      "text/plain": [
       "array([0.52380952, 0.54545455, 0.56521739])"
      ]
     },
     "execution_count": 29,
     "metadata": {},
     "output_type": "execute_result"
    }
   ],
   "source": [
    "divided"
   ]
  },
  {
   "cell_type": "markdown",
   "id": "c568d697",
   "metadata": {},
   "source": [
    "##### Kök Alma "
   ]
  },
  {
   "cell_type": "code",
   "execution_count": 30,
   "id": "a7788981",
   "metadata": {},
   "outputs": [],
   "source": [
    "rooted = np.sqrt(vector1)"
   ]
  },
  {
   "cell_type": "code",
   "execution_count": 31,
   "id": "12a4c62d",
   "metadata": {},
   "outputs": [
    {
     "data": {
      "text/plain": [
       "array([1.04880885, 1.09544512, 1.14017543])"
      ]
     },
     "execution_count": 31,
     "metadata": {},
     "output_type": "execute_result"
    }
   ],
   "source": [
    "rooted"
   ]
  },
  {
   "cell_type": "markdown",
   "id": "3d33f3fa",
   "metadata": {},
   "source": [
    "##### Dizinin Toplamını Bulma "
   ]
  },
  {
   "cell_type": "code",
   "execution_count": 32,
   "id": "2561cb76",
   "metadata": {},
   "outputs": [],
   "source": [
    "summed = np.sum(vector1)"
   ]
  },
  {
   "cell_type": "code",
   "execution_count": 33,
   "id": "01c5c208",
   "metadata": {},
   "outputs": [
    {
     "data": {
      "text/plain": [
       "3.5999999999999996"
      ]
     },
     "execution_count": 33,
     "metadata": {},
     "output_type": "execute_result"
    }
   ],
   "source": [
    "summed"
   ]
  },
  {
   "cell_type": "markdown",
   "id": "10f00975",
   "metadata": {},
   "source": [
    "##### İki Vektörün Karşılıklı Elemanlarını Çarpıp Onların Toplamını Bulma (Skaler Çarpım) "
   ]
  },
  {
   "cell_type": "code",
   "execution_count": 34,
   "id": "d569adf1",
   "metadata": {},
   "outputs": [],
   "source": [
    "dotted = np.dot(vector1, vector2)"
   ]
  },
  {
   "cell_type": "code",
   "execution_count": 35,
   "id": "b08e0f2e",
   "metadata": {},
   "outputs": [
    {
     "data": {
      "text/plain": [
       "7.940000000000001"
      ]
     },
     "execution_count": 35,
     "metadata": {},
     "output_type": "execute_result"
    }
   ],
   "source": [
    "dotted"
   ]
  },
  {
   "cell_type": "markdown",
   "id": "c8818012",
   "metadata": {},
   "source": [
    "#####  Vektördeki, İstediğimiz Aralıktaki Sayıları Getirme"
   ]
  },
  {
   "cell_type": "code",
   "execution_count": 36,
   "id": "517291c4",
   "metadata": {},
   "outputs": [],
   "source": [
    "untamed = np.array([3,-21,4,-6,11,26,9,-3,12,-30,15])"
   ]
  },
  {
   "cell_type": "markdown",
   "id": "48b7e22b",
   "metadata": {},
   "source": [
    "+ -10'dan küçük olanları -10 olarak, 10'dan büyük olanları 10 olarak yazacaktır"
   ]
  },
  {
   "cell_type": "code",
   "execution_count": 37,
   "id": "eb1bdae4",
   "metadata": {},
   "outputs": [],
   "source": [
    "clipped = np.clip(untamed, -10, 10)"
   ]
  },
  {
   "cell_type": "code",
   "execution_count": 38,
   "id": "72d4b2d6",
   "metadata": {},
   "outputs": [
    {
     "data": {
      "text/plain": [
       "array([  3, -10,   4,  -6,  10,  10,   9,  -3,  10, -10,  10])"
      ]
     },
     "execution_count": 38,
     "metadata": {},
     "output_type": "execute_result"
    }
   ],
   "source": [
    "clipped"
   ]
  },
  {
   "cell_type": "markdown",
   "id": "1280e162",
   "metadata": {},
   "source": [
    "##### np.minimum() Bütün değerler girilen sayıdan küçük olsun (Minimize et gibi bir anlamı var)"
   ]
  },
  {
   "cell_type": "code",
   "execution_count": 39,
   "id": "18efdfd7",
   "metadata": {},
   "outputs": [],
   "source": [
    "mini = np.minimum(untamed, 10)"
   ]
  },
  {
   "cell_type": "code",
   "execution_count": 40,
   "id": "980d4c9a",
   "metadata": {},
   "outputs": [
    {
     "data": {
      "text/plain": [
       "array([  3, -21,   4,  -6,  10,  10,   9,  -3,  10, -30,  10])"
      ]
     },
     "execution_count": 40,
     "metadata": {},
     "output_type": "execute_result"
    }
   ],
   "source": [
    "mini"
   ]
  },
  {
   "cell_type": "markdown",
   "id": "9a3900d9",
   "metadata": {},
   "source": [
    "##### np.maximum() Bütün değerler girilen sayıdan büyük olsun (Maximize et gibi bir anlamı var)"
   ]
  },
  {
   "cell_type": "code",
   "execution_count": 41,
   "id": "9b0b81ba",
   "metadata": {},
   "outputs": [],
   "source": [
    "maxi = np.maximum(untamed, -10)"
   ]
  },
  {
   "cell_type": "code",
   "execution_count": 42,
   "id": "1ff0dcbf",
   "metadata": {
    "scrolled": true
   },
   "outputs": [
    {
     "data": {
      "text/plain": [
       "array([  3, -10,   4,  -6,  11,  26,   9,  -3,  12, -10,  15])"
      ]
     },
     "execution_count": 42,
     "metadata": {},
     "output_type": "execute_result"
    }
   ],
   "source": [
    "maxi"
   ]
  },
  {
   "cell_type": "markdown",
   "id": "84c1030a",
   "metadata": {},
   "source": [
    "##### Trigonometrik işlemler"
   ]
  },
  {
   "cell_type": "code",
   "execution_count": 43,
   "id": "9329af07",
   "metadata": {},
   "outputs": [],
   "source": [
    "vector3 = np.array([0,30,45,60,90])\n",
    "vecsin = np.sin(vector3)\n",
    "veccos = np.cos(vector3)\n",
    "vectan = np.tan(vector3)"
   ]
  },
  {
   "cell_type": "code",
   "execution_count": 44,
   "id": "d65c0930",
   "metadata": {},
   "outputs": [
    {
     "data": {
      "text/plain": [
       "array([ 0.        , -0.98803162,  0.85090352, -0.30481062,  0.89399666])"
      ]
     },
     "execution_count": 44,
     "metadata": {},
     "output_type": "execute_result"
    }
   ],
   "source": [
    "vecsin"
   ]
  },
  {
   "cell_type": "code",
   "execution_count": 45,
   "id": "11a03c03",
   "metadata": {},
   "outputs": [
    {
     "data": {
      "text/plain": [
       "array([ 1.        ,  0.15425145,  0.52532199, -0.95241298, -0.44807362])"
      ]
     },
     "execution_count": 45,
     "metadata": {},
     "output_type": "execute_result"
    }
   ],
   "source": [
    "veccos"
   ]
  },
  {
   "cell_type": "code",
   "execution_count": 46,
   "id": "02cbb504",
   "metadata": {},
   "outputs": [
    {
     "data": {
      "text/plain": [
       "array([ 0.        , -6.4053312 ,  1.61977519,  0.32004039, -1.99520041])"
      ]
     },
     "execution_count": 46,
     "metadata": {},
     "output_type": "execute_result"
    }
   ],
   "source": [
    "vectan"
   ]
  },
  {
   "cell_type": "markdown",
   "id": "6f6162f3",
   "metadata": {},
   "source": [
    "##### Dizideki max ve min elemanları bulma "
   ]
  },
  {
   "cell_type": "code",
   "execution_count": 47,
   "id": "d45012b9",
   "metadata": {},
   "outputs": [],
   "source": [
    "new_array = np.array([123,43,5,5,3,5,435,4,34,3,-21])"
   ]
  },
  {
   "cell_type": "code",
   "execution_count": 48,
   "id": "12041e82",
   "metadata": {},
   "outputs": [
    {
     "data": {
      "text/plain": [
       "435"
      ]
     },
     "execution_count": 48,
     "metadata": {},
     "output_type": "execute_result"
    }
   ],
   "source": [
    "np.max(new_array)"
   ]
  },
  {
   "cell_type": "code",
   "execution_count": 49,
   "id": "dab5d687",
   "metadata": {},
   "outputs": [
    {
     "data": {
      "text/plain": [
       "-21"
      ]
     },
     "execution_count": 49,
     "metadata": {},
     "output_type": "execute_result"
    }
   ],
   "source": [
    "np.min(new_array)"
   ]
  },
  {
   "cell_type": "markdown",
   "id": "07e56113",
   "metadata": {},
   "source": [
    "## Dizilerde basit işlemler  "
   ]
  },
  {
   "cell_type": "code",
   "execution_count": 50,
   "id": "f194f1a5",
   "metadata": {},
   "outputs": [
    {
     "data": {
      "text/plain": [
       "array([21.851, 20.975, 21.75 , 24.747, 21.441])"
      ]
     },
     "execution_count": 50,
     "metadata": {},
     "output_type": "execute_result"
    }
   ],
   "source": [
    "bmi = np.array([21.851, 20.975, 21.750, 24.747, 21.441])\n",
    "bmi"
   ]
  },
  {
   "cell_type": "markdown",
   "id": "e39217ea",
   "metadata": {},
   "source": [
    "##### Listeden eleman çağırır gibi NumPy dizisinden de eleman çağırabiliriz "
   ]
  },
  {
   "cell_type": "code",
   "execution_count": 51,
   "id": "d3fbd394",
   "metadata": {},
   "outputs": [
    {
     "data": {
      "text/plain": [
       "20.975"
      ]
     },
     "execution_count": 51,
     "metadata": {},
     "output_type": "execute_result"
    }
   ],
   "source": [
    "bmi[1]"
   ]
  },
  {
   "cell_type": "markdown",
   "id": "ed0af001",
   "metadata": {},
   "source": [
    "##### Boolean içeren bir diziyi tamamen sayılardan oluşan bir dizi üzerinden oluşturabiliriz "
   ]
  },
  {
   "cell_type": "code",
   "execution_count": 52,
   "id": "bd4b3270",
   "metadata": {},
   "outputs": [
    {
     "data": {
      "text/plain": [
       "array([False, False, False,  True, False])"
      ]
     },
     "execution_count": 52,
     "metadata": {},
     "output_type": "execute_result"
    }
   ],
   "source": [
    "bmi > 23"
   ]
  },
  {
   "cell_type": "code",
   "execution_count": 53,
   "id": "f8dd60fb",
   "metadata": {},
   "outputs": [
    {
     "data": {
      "text/plain": [
       "array([ True,  True,  True, False,  True])"
      ]
     },
     "execution_count": 53,
     "metadata": {},
     "output_type": "execute_result"
    }
   ],
   "source": [
    "light = bmi < 22\n",
    "light"
   ]
  },
  {
   "cell_type": "markdown",
   "id": "336ea8c8",
   "metadata": {},
   "source": [
    "##### bmi adlı diziden light adlı şartı sağlayanları bir dizi haline getirdi "
   ]
  },
  {
   "cell_type": "code",
   "execution_count": 54,
   "id": "af077a9f",
   "metadata": {},
   "outputs": [
    {
     "data": {
      "text/plain": [
       "array([21.851, 20.975, 21.75 , 21.441])"
      ]
     },
     "execution_count": 54,
     "metadata": {},
     "output_type": "execute_result"
    }
   ],
   "source": [
    "bmi[light]"
   ]
  },
  {
   "cell_type": "markdown",
   "id": "bb32c4b0",
   "metadata": {},
   "source": [
    "##### True = 1 ve False = 0 olarak görülür"
   ]
  },
  {
   "cell_type": "code",
   "execution_count": 55,
   "id": "babbaec1",
   "metadata": {},
   "outputs": [
    {
     "data": {
      "text/plain": [
       "array([4, 5, 2])"
      ]
     },
     "execution_count": 55,
     "metadata": {},
     "output_type": "execute_result"
    }
   ],
   "source": [
    " np.array([True, 1, 2]) + np.array([3, 4, False])"
   ]
  },
  {
   "cell_type": "markdown",
   "id": "783b8a45",
   "metadata": {},
   "source": [
    "##### Dizilerin indexlerini çağırmak "
   ]
  },
  {
   "cell_type": "code",
   "execution_count": 56,
   "id": "3c9af2f1",
   "metadata": {},
   "outputs": [],
   "source": [
    "vector4 = np.array([100,123,324,111,110,115,146,127,139])\n",
    "vector4_index = vector4[3:8]"
   ]
  },
  {
   "cell_type": "code",
   "execution_count": 57,
   "id": "fb462914",
   "metadata": {},
   "outputs": [
    {
     "data": {
      "text/plain": [
       "array([111, 110, 115, 146, 127])"
      ]
     },
     "execution_count": 57,
     "metadata": {},
     "output_type": "execute_result"
    }
   ],
   "source": [
    "vector4_index"
   ]
  },
  {
   "cell_type": "markdown",
   "id": "7ba5be4e",
   "metadata": {},
   "source": [
    "##### Dizideki elemanları küçükten büyüğe sıralamak ( np.sort() ) "
   ]
  },
  {
   "cell_type": "code",
   "execution_count": 58,
   "id": "86dbf286",
   "metadata": {},
   "outputs": [
    {
     "data": {
      "text/plain": [
       "array([100, 110, 111, 115, 123, 127, 139, 146, 324])"
      ]
     },
     "execution_count": 58,
     "metadata": {},
     "output_type": "execute_result"
    }
   ],
   "source": [
    "np.sort(vector4)"
   ]
  },
  {
   "cell_type": "markdown",
   "id": "50a684c0",
   "metadata": {},
   "source": [
    "## Boş Bir Diziyi Doldurmak"
   ]
  },
  {
   "cell_type": "markdown",
   "id": "f0922ec8",
   "metadata": {},
   "source": [
    "##### Parantez içine direkt olarak sayı girince girilen sayı kadar rasgele sayı atamak (parantez içine girilen sayı kadar atama yapar)"
   ]
  },
  {
   "cell_type": "code",
   "execution_count": 59,
   "id": "8a03b45d",
   "metadata": {},
   "outputs": [
    {
     "data": {
      "text/plain": [
       "array([21.851, 20.975, 21.75 , 21.441])"
      ]
     },
     "execution_count": 59,
     "metadata": {},
     "output_type": "execute_result"
    }
   ],
   "source": [
    "empty = np.empty(4)\n",
    "empty"
   ]
  },
  {
   "cell_type": "markdown",
   "id": "387922af",
   "metadata": {},
   "source": [
    "##### İçi tamamen 0 (sıfır) ile dolu dizi oluşturmak"
   ]
  },
  {
   "cell_type": "code",
   "execution_count": 60,
   "id": "fdc0e53a",
   "metadata": {},
   "outputs": [
    {
     "data": {
      "text/plain": [
       "array([0., 0., 0., 0.])"
      ]
     },
     "execution_count": 60,
     "metadata": {},
     "output_type": "execute_result"
    }
   ],
   "source": [
    "zeros = np.zeros(4)\n",
    "zeros"
   ]
  },
  {
   "cell_type": "markdown",
   "id": "cad6bd36",
   "metadata": {},
   "source": [
    "##### İçi tamamen 1 (bir) ile dolu dizi oluşturmak "
   ]
  },
  {
   "cell_type": "code",
   "execution_count": 61,
   "id": "b7b6c901",
   "metadata": {},
   "outputs": [
    {
     "data": {
      "text/plain": [
       "array([1., 1., 1., 1.])"
      ]
     },
     "execution_count": 61,
     "metadata": {},
     "output_type": "execute_result"
    }
   ],
   "source": [
    "ones = np.ones(4)\n",
    "ones"
   ]
  },
  {
   "cell_type": "markdown",
   "id": "3ff86ec6",
   "metadata": {},
   "source": [
    "##### İçi tamamen istediğimiz sayı ile dolu dizi oluşturmak "
   ]
  },
  {
   "cell_type": "code",
   "execution_count": 62,
   "id": "0568ceee",
   "metadata": {},
   "outputs": [
    {
     "data": {
      "text/plain": [
       "array([3.14, 3.14, 3.14, 3.14])"
      ]
     },
     "execution_count": 62,
     "metadata": {},
     "output_type": "execute_result"
    }
   ],
   "source": [
    "fulls = np.full(4, 3.14)\n",
    "fulls"
   ]
  },
  {
   "cell_type": "markdown",
   "id": "58261559",
   "metadata": {},
   "source": [
    "##### Verilen vektördeki eleman sayısı kadar elemanı olan dizi üretmek "
   ]
  },
  {
   "cell_type": "code",
   "execution_count": 63,
   "id": "977d320e",
   "metadata": {},
   "outputs": [
    {
     "data": {
      "text/plain": [
       "array([1, 1, 1, 1, 1, 1, 1, 1, 1])"
      ]
     },
     "execution_count": 63,
     "metadata": {},
     "output_type": "execute_result"
    }
   ],
   "source": [
    "vector5 = np.array([4,1,2,5,5,6,1,3,4])\n",
    "likes = np.ones_like(vector5)\n",
    "likes"
   ]
  },
  {
   "cell_type": "code",
   "execution_count": 64,
   "id": "ee7e04fc",
   "metadata": {},
   "outputs": [
    {
     "data": {
      "text/plain": [
       "array([0, 0, 0, 0, 0, 0, 0, 0, 0])"
      ]
     },
     "execution_count": 64,
     "metadata": {},
     "output_type": "execute_result"
    }
   ],
   "source": [
    "likes1 = np.zeros_like(vector5)\n",
    "likes1"
   ]
  },
  {
   "cell_type": "code",
   "execution_count": 65,
   "id": "c1f12241",
   "metadata": {},
   "outputs": [
    {
     "data": {
      "text/plain": [
       "array([27, 27, 27, 27, 27, 27, 27, 27, 27])"
      ]
     },
     "execution_count": 65,
     "metadata": {},
     "output_type": "execute_result"
    }
   ],
   "source": [
    "likes2 = np.full_like(vector5 , 27)\n",
    "likes2"
   ]
  },
  {
   "cell_type": "markdown",
   "id": "79e272a0",
   "metadata": {},
   "source": [
    "##### np.linspace() ile belirli aralıklarla sayı içeren dizi oluşturulabilir"
   ]
  },
  {
   "cell_type": "code",
   "execution_count": 66,
   "id": "e4a36f39",
   "metadata": {},
   "outputs": [
    {
     "data": {
      "text/plain": [
       "array([ 0. ,  2.5,  5. ,  7.5, 10. ])"
      ]
     },
     "execution_count": 66,
     "metadata": {},
     "output_type": "execute_result"
    }
   ],
   "source": [
    "np.linspace(0, 10, num = 5)"
   ]
  },
  {
   "cell_type": "markdown",
   "id": "4fe63658",
   "metadata": {},
   "source": [
    "## Rasgele Sayı Üretmek"
   ]
  },
  {
   "cell_type": "markdown",
   "id": "0019b11c",
   "metadata": {},
   "source": [
    "##### Normal dağılım olmayan rasgele sayıları üretmek "
   ]
  },
  {
   "cell_type": "code",
   "execution_count": 67,
   "id": "3d6f46d1",
   "metadata": {},
   "outputs": [
    {
     "data": {
      "text/plain": [
       "array([0.69868605, 0.27908677, 0.3061818 , 0.98297604, 0.69915104,\n",
       "       0.89710732, 0.95867   , 0.24416964, 0.86560094, 0.42753421])"
      ]
     },
     "execution_count": 67,
     "metadata": {},
     "output_type": "execute_result"
    }
   ],
   "source": [
    "random_uniform = np.random.uniform(size = 10)\n",
    "random_uniform"
   ]
  },
  {
   "cell_type": "markdown",
   "id": "294731f1",
   "metadata": {},
   "source": [
    "##### Bir aralıkta Normal dağılım olmayan rasgele sayılar üretmek"
   ]
  },
  {
   "cell_type": "code",
   "execution_count": 68,
   "id": "32bb181a",
   "metadata": {},
   "outputs": [
    {
     "data": {
      "text/plain": [
       "array([3.34637599, 1.99887685, 1.47718517, 5.02762249, 5.05117473,\n",
       "       2.91048242, 3.79763342, 1.404026  , 4.6712008 , 5.19746707])"
      ]
     },
     "execution_count": 68,
     "metadata": {},
     "output_type": "execute_result"
    }
   ],
   "source": [
    "random_uniform_1 = np.random.uniform(low = 1, high = 6, size = 10)\n",
    "random_uniform_1"
   ]
  },
  {
   "cell_type": "markdown",
   "id": "8514bc4c",
   "metadata": {},
   "source": [
    "##### Normal dağılıma göre rasgele sayılar üretmek (Ortalama ,1.65 ve standart sapma, 0.80'dir) "
   ]
  },
  {
   "cell_type": "code",
   "execution_count": 69,
   "id": "c7796311",
   "metadata": {},
   "outputs": [
    {
     "data": {
      "text/plain": [
       "array([1.31388055, 1.27349134, 3.16658295, 0.02832014, 2.17603371,\n",
       "       3.22108172, 3.03188812, 0.45160299, 2.52710841, 2.09979105])"
      ]
     },
     "execution_count": 69,
     "metadata": {},
     "output_type": "execute_result"
    }
   ],
   "source": [
    "random_normal = np.random.normal(loc = 1.65, scale = 0.80, size = 10)\n",
    "random_normal"
   ]
  },
  {
   "cell_type": "markdown",
   "id": "5d68483d",
   "metadata": {},
   "source": [
    "##### Tablo olarak sayı üretmek (2 Boyutlu) "
   ]
  },
  {
   "cell_type": "code",
   "execution_count": 70,
   "id": "cf302d56",
   "metadata": {},
   "outputs": [
    {
     "data": {
      "text/plain": [
       "array([[5.27535914, 5.10172355, 4.65918072, 3.93334368, 5.28953603],\n",
       "       [5.11891138, 1.14824322, 1.55159303, 1.84978187, 3.08255261],\n",
       "       [1.29768892, 4.37410241, 5.21494626, 2.65739946, 4.69331392],\n",
       "       [5.20270915, 3.36454205, 1.77770099, 2.94683541, 3.54004124],\n",
       "       [2.26384144, 1.2904142 , 1.39847449, 4.66875363, 3.84548258],\n",
       "       [2.74693723, 5.46301493, 5.13935245, 4.70764392, 3.4977432 ],\n",
       "       [1.38230765, 4.78568213, 4.39173634, 2.47374619, 1.49195873],\n",
       "       [2.87843028, 5.01610872, 4.99604148, 5.31168315, 1.96679427],\n",
       "       [1.9689017 , 4.63165989, 1.14010747, 4.22750733, 5.4980795 ],\n",
       "       [3.15296524, 3.22623292, 5.99484138, 2.86480225, 1.76626529]])"
      ]
     },
     "execution_count": 70,
     "metadata": {},
     "output_type": "execute_result"
    }
   ],
   "source": [
    "table = np.random.uniform(low = 1, high = 6, size = (10,5))\n",
    "table"
   ]
  },
  {
   "cell_type": "markdown",
   "id": "951028dd",
   "metadata": {},
   "source": [
    "##### Tablo olarak sayı üretmek (3 Boyutlu) "
   ]
  },
  {
   "cell_type": "code",
   "execution_count": 71,
   "id": "4936cfab",
   "metadata": {},
   "outputs": [
    {
     "data": {
      "text/plain": [
       "array([[[1.50087735, 4.40941733],\n",
       "        [1.25798812, 5.13032328],\n",
       "        [5.34271495, 1.02063309],\n",
       "        [4.22642071, 1.73436607],\n",
       "        [5.56520191, 5.14033072]],\n",
       "\n",
       "       [[5.08500291, 3.26111933],\n",
       "        [4.11193274, 5.25662467],\n",
       "        [3.43338642, 1.74804381],\n",
       "        [5.93572044, 2.56269508],\n",
       "        [5.37595085, 3.48162737]],\n",
       "\n",
       "       [[4.24367924, 1.49495641],\n",
       "        [4.06243984, 5.23554142],\n",
       "        [5.22768279, 5.35118975],\n",
       "        [1.09792143, 3.26338079],\n",
       "        [3.43583612, 1.85572905]],\n",
       "\n",
       "       [[4.34427045, 2.45745849],\n",
       "        [1.31453218, 2.26938111],\n",
       "        [4.58947489, 4.02955311],\n",
       "        [5.22181287, 4.25376326],\n",
       "        [5.97426439, 4.53706389]],\n",
       "\n",
       "       [[1.05451422, 3.401515  ],\n",
       "        [1.99410718, 1.28893858],\n",
       "        [4.85027826, 5.65083801],\n",
       "        [3.93652343, 4.61122897],\n",
       "        [5.68434132, 1.16563999]],\n",
       "\n",
       "       [[2.33761488, 1.28456856],\n",
       "        [3.87848525, 2.82772766],\n",
       "        [4.14233388, 2.26273088],\n",
       "        [3.10495674, 2.83353688],\n",
       "        [4.03153243, 3.03344419]],\n",
       "\n",
       "       [[1.44701297, 3.35376232],\n",
       "        [3.72459922, 4.19303336],\n",
       "        [5.95097953, 3.28102426],\n",
       "        [4.3365199 , 3.66330058],\n",
       "        [5.56135492, 2.61014543]],\n",
       "\n",
       "       [[1.93488683, 3.99572902],\n",
       "        [1.2371159 , 4.31110244],\n",
       "        [3.6806005 , 1.60111603],\n",
       "        [3.81856032, 2.33996362],\n",
       "        [5.07662855, 2.5336616 ]],\n",
       "\n",
       "       [[1.1702862 , 1.27836383],\n",
       "        [2.12918642, 2.14088094],\n",
       "        [1.83923255, 5.0978406 ],\n",
       "        [4.78405073, 4.03353667],\n",
       "        [3.54429865, 1.12553053]],\n",
       "\n",
       "       [[5.00068104, 2.11787694],\n",
       "        [4.57366026, 2.18837146],\n",
       "        [5.98596092, 1.68639482],\n",
       "        [1.49665473, 2.16951725],\n",
       "        [4.92696296, 4.73070468]]])"
      ]
     },
     "execution_count": 71,
     "metadata": {},
     "output_type": "execute_result"
    }
   ],
   "source": [
    "table1 = np.random.uniform(low = 1, high = 6, size = (10,5,2))\n",
    "table1"
   ]
  },
  {
   "cell_type": "markdown",
   "id": "eeac3ff3",
   "metadata": {},
   "source": [
    "## 2 Boyutlu Dizilerde İşlemler"
   ]
  },
  {
   "cell_type": "code",
   "execution_count": 72,
   "id": "0a52bc8a",
   "metadata": {},
   "outputs": [],
   "source": [
    "matrix = np.array([\n",
    "    [11.0, 12.0, 13.0],\n",
    "    [21.0, 22.0, 23.0],\n",
    "    [31.0, 32.0, 33.0]\n",
    "])"
   ]
  },
  {
   "cell_type": "code",
   "execution_count": 73,
   "id": "f81a9887",
   "metadata": {},
   "outputs": [
    {
     "data": {
      "text/plain": [
       "array([[11., 12., 13.],\n",
       "       [21., 22., 23.],\n",
       "       [31., 32., 33.]])"
      ]
     },
     "execution_count": 73,
     "metadata": {},
     "output_type": "execute_result"
    }
   ],
   "source": [
    "matrix"
   ]
  },
  {
   "cell_type": "code",
   "execution_count": 74,
   "id": "31ea46e6",
   "metadata": {
    "scrolled": true
   },
   "outputs": [
    {
     "data": {
      "text/plain": [
       "array([[ 1.73,  1.68,  1.71,  1.89,  1.79],\n",
       "       [65.4 , 69.2 , 63.6 , 88.4 , 68.7 ]])"
      ]
     },
     "execution_count": 74,
     "metadata": {},
     "output_type": "execute_result"
    }
   ],
   "source": [
    "np_2d = np.array([\n",
    "    [1.73, 1.68, 1.71, 1.89, 1.79],\n",
    "    [65.4, 69.2, 63.6, 88.4, 68.7]\n",
    "])\n",
    "np_2d"
   ]
  },
  {
   "cell_type": "markdown",
   "id": "5565b172",
   "metadata": {},
   "source": [
    "##### ndarray.shape Matrisin kaç satır ve sütun olduğunu gösterir "
   ]
  },
  {
   "cell_type": "code",
   "execution_count": 75,
   "id": "a94d9705",
   "metadata": {
    "scrolled": true
   },
   "outputs": [
    {
     "data": {
      "text/plain": [
       "(3, 3)"
      ]
     },
     "execution_count": 75,
     "metadata": {},
     "output_type": "execute_result"
    }
   ],
   "source": [
    "matrix.shape"
   ]
  },
  {
   "cell_type": "markdown",
   "id": "9c857225",
   "metadata": {},
   "source": [
    "##### Aşağıdaki ifade 0'ıncı satırı verir "
   ]
  },
  {
   "cell_type": "code",
   "execution_count": 76,
   "id": "f0604df5",
   "metadata": {},
   "outputs": [
    {
     "data": {
      "text/plain": [
       "array([1.73, 1.68, 1.71, 1.89, 1.79])"
      ]
     },
     "execution_count": 76,
     "metadata": {},
     "output_type": "execute_result"
    }
   ],
   "source": [
    "np_2d[0]"
   ]
  },
  {
   "cell_type": "markdown",
   "id": "2d947dc2",
   "metadata": {},
   "source": [
    "##### Aşağıdaki 2 ifade de aynı şeyi verir "
   ]
  },
  {
   "cell_type": "code",
   "execution_count": 77,
   "id": "f2ea47fe",
   "metadata": {},
   "outputs": [
    {
     "data": {
      "text/plain": [
       "1.71"
      ]
     },
     "execution_count": 77,
     "metadata": {},
     "output_type": "execute_result"
    }
   ],
   "source": [
    "np_2d[0][2]\n",
    "np_2d[0,2]"
   ]
  },
  {
   "cell_type": "markdown",
   "id": "219549e2",
   "metadata": {},
   "source": [
    "##### Bütün satırların 1'den 3. indexe kadar olan elemanlarını verir "
   ]
  },
  {
   "cell_type": "code",
   "execution_count": 78,
   "id": "dad0a14d",
   "metadata": {
    "scrolled": true
   },
   "outputs": [
    {
     "data": {
      "text/plain": [
       "array([[ 1.68,  1.71],\n",
       "       [69.2 , 63.6 ]])"
      ]
     },
     "execution_count": 78,
     "metadata": {},
     "output_type": "execute_result"
    }
   ],
   "source": [
    "np_2d[:, 1:3]"
   ]
  },
  {
   "cell_type": "markdown",
   "id": "2e4b3cf4",
   "metadata": {},
   "source": [
    "##### 1. satırdan 2. satıra kadar ve 0. sütundan 2. sütuna kadar olan değerleri verir "
   ]
  },
  {
   "cell_type": "code",
   "execution_count": 79,
   "id": "1c700da5",
   "metadata": {},
   "outputs": [
    {
     "data": {
      "text/plain": [
       "array([[21., 22.]])"
      ]
     },
     "execution_count": 79,
     "metadata": {},
     "output_type": "execute_result"
    }
   ],
   "source": [
    "matrix[1:2, 0:2]"
   ]
  },
  {
   "cell_type": "markdown",
   "id": "708abe67",
   "metadata": {},
   "source": [
    "##### 1. Satırdaki bütün elemanları verir"
   ]
  },
  {
   "cell_type": "code",
   "execution_count": 80,
   "id": "ec1b82f0",
   "metadata": {
    "scrolled": true
   },
   "outputs": [
    {
     "data": {
      "text/plain": [
       "array([65.4, 69.2, 63.6, 88.4, 68.7])"
      ]
     },
     "execution_count": 80,
     "metadata": {},
     "output_type": "execute_result"
    }
   ],
   "source": [
    "np_2d[1, :]"
   ]
  },
  {
   "cell_type": "markdown",
   "id": "bcceac17",
   "metadata": {},
   "source": [
    "##### İki matrisi dikey (vertically) olarak birleştirmek içi \"np.vstack((.....))\" kullanılır. "
   ]
  },
  {
   "cell_type": "code",
   "execution_count": 81,
   "id": "5417d33b",
   "metadata": {},
   "outputs": [],
   "source": [
    "vertical1 = np.array([\n",
    "    [11,12,13],\n",
    "    [21,22,23],\n",
    "    [31,32,33]\n",
    "])\n",
    "\n",
    "vertical2 = np.array([\n",
    "    [41,42,43],\n",
    "    [51,52,53]\n",
    "])"
   ]
  },
  {
   "cell_type": "markdown",
   "id": "2a42ba8d",
   "metadata": {},
   "source": [
    "+ Aşağıdaki işlem hata verecektir çünkü matrisler aynı boyutta değiller "
   ]
  },
  {
   "cell_type": "code",
   "execution_count": 82,
   "id": "9bfcb1f2",
   "metadata": {
    "scrolled": false
   },
   "outputs": [
    {
     "ename": "ValueError",
     "evalue": "operands could not be broadcast together with shapes (3,3) (2,3) ",
     "output_type": "error",
     "traceback": [
      "\u001b[1;31m---------------------------------------------------------------------------\u001b[0m",
      "\u001b[1;31mValueError\u001b[0m                                Traceback (most recent call last)",
      "\u001b[1;32m~\\AppData\\Local\\Temp/ipykernel_5972/2033314032.py\u001b[0m in \u001b[0;36m<module>\u001b[1;34m\u001b[0m\n\u001b[1;32m----> 1\u001b[1;33m \u001b[0mvertical1\u001b[0m \u001b[1;33m+\u001b[0m \u001b[0mvertical2\u001b[0m\u001b[1;33m\u001b[0m\u001b[1;33m\u001b[0m\u001b[0m\n\u001b[0m",
      "\u001b[1;31mValueError\u001b[0m: operands could not be broadcast together with shapes (3,3) (2,3) "
     ]
    }
   ],
   "source": [
    "vertical1 + vertical2"
   ]
  },
  {
   "cell_type": "markdown",
   "id": "bc13e810",
   "metadata": {},
   "source": [
    "+ np.vstack((....)) tek bir parametre alır ve o da tuple şeklindedir. Eğer tuple şeklinde vermezsek aşağıdaki kod bloğunda olduğu gibi hata verir "
   ]
  },
  {
   "cell_type": "code",
   "execution_count": 83,
   "id": "b94df1d0",
   "metadata": {
    "scrolled": true
   },
   "outputs": [
    {
     "ename": "TypeError",
     "evalue": "_vhstack_dispatcher() takes 1 positional argument but 2 were given",
     "output_type": "error",
     "traceback": [
      "\u001b[1;31m---------------------------------------------------------------------------\u001b[0m",
      "\u001b[1;31mTypeError\u001b[0m                                 Traceback (most recent call last)",
      "\u001b[1;32m~\\AppData\\Local\\Temp/ipykernel_5972/1464265331.py\u001b[0m in \u001b[0;36m<module>\u001b[1;34m\u001b[0m\n\u001b[1;32m----> 1\u001b[1;33m \u001b[0mvertical3\u001b[0m \u001b[1;33m=\u001b[0m \u001b[0mnp\u001b[0m\u001b[1;33m.\u001b[0m\u001b[0mvstack\u001b[0m\u001b[1;33m(\u001b[0m\u001b[0mvertical1\u001b[0m\u001b[1;33m,\u001b[0m \u001b[0mvertical2\u001b[0m\u001b[1;33m)\u001b[0m\u001b[1;33m\u001b[0m\u001b[1;33m\u001b[0m\u001b[0m\n\u001b[0m",
      "\u001b[1;32m<__array_function__ internals>\u001b[0m in \u001b[0;36mvstack\u001b[1;34m(*args, **kwargs)\u001b[0m\n",
      "\u001b[1;31mTypeError\u001b[0m: _vhstack_dispatcher() takes 1 positional argument but 2 were given"
     ]
    }
   ],
   "source": [
    "vertical3 = np.vstack(vertical1, vertical2)"
   ]
  },
  {
   "cell_type": "markdown",
   "id": "4b78eea1",
   "metadata": {},
   "source": [
    "+ Doğrusu aşağıdaki gibidir"
   ]
  },
  {
   "cell_type": "code",
   "execution_count": 84,
   "id": "f3a502e0",
   "metadata": {
    "scrolled": true
   },
   "outputs": [
    {
     "data": {
      "text/plain": [
       "array([[11, 12, 13],\n",
       "       [21, 22, 23],\n",
       "       [31, 32, 33],\n",
       "       [41, 42, 43],\n",
       "       [51, 52, 53]])"
      ]
     },
     "execution_count": 84,
     "metadata": {},
     "output_type": "execute_result"
    }
   ],
   "source": [
    "vertical4 = np.vstack((vertical1, vertical2))\n",
    "vertical4"
   ]
  },
  {
   "cell_type": "markdown",
   "id": "84bafb38",
   "metadata": {},
   "source": [
    "##### İki matrisi yatay (horizontally) olarak birleştirmek için \"np.hstack((.....))\" kullanılır."
   ]
  },
  {
   "cell_type": "code",
   "execution_count": 85,
   "id": "9122a56d",
   "metadata": {},
   "outputs": [],
   "source": [
    "horizontal1 = np.array([\n",
    "    [1,1],\n",
    "    [2,2]\n",
    "])\n",
    "\n",
    "horizontal2 = np.array([\n",
    "    [3,3],\n",
    "    [4,4]\n",
    "])"
   ]
  },
  {
   "cell_type": "markdown",
   "id": "8e618a28",
   "metadata": {},
   "source": [
    "+ np.hstack((.....)) de 1 parametre alır ve o parametre tuple şeklinde olmalıdır"
   ]
  },
  {
   "cell_type": "code",
   "execution_count": 86,
   "id": "9b6d4bde",
   "metadata": {},
   "outputs": [
    {
     "data": {
      "text/plain": [
       "array([[1, 1, 3, 3],\n",
       "       [2, 2, 4, 4]])"
      ]
     },
     "execution_count": 86,
     "metadata": {},
     "output_type": "execute_result"
    }
   ],
   "source": [
    "horizontal3 = np.hstack((horizontal1, horizontal2))\n",
    "horizontal3"
   ]
  },
  {
   "cell_type": "markdown",
   "id": "c1237e6f",
   "metadata": {},
   "source": [
    "## İstatistik ile İlgili Komutlar"
   ]
  },
  {
   "cell_type": "code",
   "execution_count": 87,
   "id": "de355dfe",
   "metadata": {},
   "outputs": [
    {
     "data": {
      "text/plain": [
       "array([12.52713608, 14.6941986 , 11.58131484,  9.80994811,  9.19921406,\n",
       "       11.6876192 ,  7.27354376,  7.45350025,  9.95240145, 11.77874508,\n",
       "       10.14591851, 15.04794252,  5.37089119, 12.87049228, 12.22791206,\n",
       "       11.85841907,  5.0943633 , 12.26292574, 11.9514583 ,  9.15284009,\n",
       "        8.19396774,  9.42780935,  9.34227988, 17.45966701, 10.80756737,\n",
       "       10.72566811,  3.78624027,  9.81826969,  9.83568442, 12.74311051,\n",
       "       10.08092069, 16.30399149,  8.34230029, 13.54812028, 13.24141614,\n",
       "        8.62216898, 11.2125477 , 10.90468524, 15.22871657,  6.85094601,\n",
       "        9.73892046, 10.60092995,  6.54144235, 11.63284731,  7.86558997,\n",
       "       11.10265955, 10.91395577,  8.4616344 ,  6.84293409,  6.70022125,\n",
       "       12.27716472, 10.23894185, 10.7041023 ,  9.47648065,  5.64266107,\n",
       "        9.31597889, 17.70560581, 13.57166178, 11.67005759,  8.44914966,\n",
       "        6.37350273, 10.29348563, 10.98086731,  4.5827044 ,  5.51241363,\n",
       "        7.50686727,  9.37116186, 10.23553257, 10.63093491,  9.88694358,\n",
       "       11.52974358,  5.42788775, 14.84192505,  6.87136347, 10.34230233,\n",
       "       11.41555357,  5.71318954,  8.97880563,  7.071828  ,  6.52142787,\n",
       "        7.66172775, 10.4946451 ,  8.67166801, 17.11926388, 14.46032287,\n",
       "        6.99247032, 10.15264835,  5.53132542,  6.32805508, 14.96395848,\n",
       "       12.15666373, 12.74737247,  7.77645406,  7.30719032, 12.76686891,\n",
       "       11.26926766, 13.98749395, 15.64833421, 11.5746753 ,  6.9589609 ])"
      ]
     },
     "execution_count": 87,
     "metadata": {},
     "output_type": "execute_result"
    }
   ],
   "source": [
    "stat_array = np.random.normal(loc = 10, scale = 3, size = 100) #Ortalaması 10, standart sapması 3 olan bir normal dağılımlı dizi\n",
    "stat_array"
   ]
  },
  {
   "cell_type": "code",
   "execution_count": 88,
   "id": "e3aea903",
   "metadata": {},
   "outputs": [
    {
     "data": {
      "text/plain": [
       "10.165276091102726"
      ]
     },
     "execution_count": 88,
     "metadata": {},
     "output_type": "execute_result"
    }
   ],
   "source": [
    "mean = np.mean(stat_array) # Ortalamayı hesaplar\n",
    "mean"
   ]
  },
  {
   "cell_type": "code",
   "execution_count": 89,
   "id": "0921b5c3",
   "metadata": {},
   "outputs": [
    {
     "data": {
      "text/plain": [
       "10.19409045524564"
      ]
     },
     "execution_count": 89,
     "metadata": {},
     "output_type": "execute_result"
    }
   ],
   "source": [
    "median = np.median(stat_array) # Medyanı hesaplar\n",
    "median"
   ]
  },
  {
   "cell_type": "code",
   "execution_count": 90,
   "id": "d4d90301",
   "metadata": {},
   "outputs": [
    {
     "data": {
      "text/plain": [
       "array([ 3.78624027,  4.5827044 ,  5.0943633 ,  5.37089119,  5.42788775,\n",
       "        5.51241363,  5.53132542,  5.64266107,  5.71318954,  6.32805508,\n",
       "        6.37350273,  6.52142787,  6.54144235,  6.70022125,  6.84293409,\n",
       "        6.85094601,  6.87136347,  6.9589609 ,  6.99247032,  7.071828  ,\n",
       "        7.27354376,  7.30719032,  7.45350025,  7.50686727,  7.66172775,\n",
       "        7.77645406,  7.86558997,  8.19396774,  8.34230029,  8.44914966,\n",
       "        8.4616344 ,  8.62216898,  8.67166801,  8.97880563,  9.15284009,\n",
       "        9.19921406,  9.31597889,  9.34227988,  9.37116186,  9.42780935,\n",
       "        9.47648065,  9.73892046,  9.80994811,  9.81826969,  9.83568442,\n",
       "        9.88694358,  9.95240145, 10.08092069, 10.14591851, 10.15264835,\n",
       "       10.23553257, 10.23894185, 10.29348563, 10.34230233, 10.4946451 ,\n",
       "       10.60092995, 10.63093491, 10.7041023 , 10.72566811, 10.80756737,\n",
       "       10.90468524, 10.91395577, 10.98086731, 11.10265955, 11.2125477 ,\n",
       "       11.26926766, 11.41555357, 11.52974358, 11.5746753 , 11.58131484,\n",
       "       11.63284731, 11.67005759, 11.6876192 , 11.77874508, 11.85841907,\n",
       "       11.9514583 , 12.15666373, 12.22791206, 12.26292574, 12.27716472,\n",
       "       12.52713608, 12.74311051, 12.74737247, 12.76686891, 12.87049228,\n",
       "       13.24141614, 13.54812028, 13.57166178, 13.98749395, 14.46032287,\n",
       "       14.6941986 , 14.84192505, 14.96395848, 15.04794252, 15.22871657,\n",
       "       15.64833421, 16.30399149, 17.11926388, 17.45966701, 17.70560581])"
      ]
     },
     "execution_count": 90,
     "metadata": {},
     "output_type": "execute_result"
    }
   ],
   "source": [
    "sort_stat_array = np.sort(stat_array) # Dizideki elemanları küçükten büyüğe sıralar\n",
    "sort_stat_array"
   ]
  },
  {
   "cell_type": "code",
   "execution_count": 91,
   "id": "fd69fc3c",
   "metadata": {},
   "outputs": [
    {
     "data": {
      "text/plain": [
       "9.157222538602356"
      ]
     },
     "execution_count": 91,
     "metadata": {},
     "output_type": "execute_result"
    }
   ],
   "source": [
    "variance = np.var(stat_array) # Varyansı hesaplar\n",
    "variance"
   ]
  },
  {
   "cell_type": "code",
   "execution_count": 93,
   "id": "f68f9918",
   "metadata": {},
   "outputs": [
    {
     "data": {
      "text/plain": [
       "3.0260903057579687"
      ]
     },
     "execution_count": 93,
     "metadata": {},
     "output_type": "execute_result"
    }
   ],
   "source": [
    "standart_deviation = np.std(stat_array) # Standart sapmayı hesaplar\n",
    "standart_deviation"
   ]
  },
  {
   "cell_type": "code",
   "execution_count": 102,
   "id": "36c023aa",
   "metadata": {},
   "outputs": [],
   "source": [
    "percentile1 = np.percentile(stat_array, 25) # Yüzdelikleri hesaplar (25, 50, 75) (1. , 2. , 3.)\n",
    "percentile2 = np.percentile(stat_array, 50)\n",
    "percentile3 = np.percentile(stat_array, 75)"
   ]
  },
  {
   "cell_type": "code",
   "execution_count": 103,
   "id": "5f8da57b",
   "metadata": {},
   "outputs": [
    {
     "name": "stdout",
     "output_type": "stream",
     "text": [
      "7.747772484156274\n",
      "10.19409045524564\n",
      "11.881678877490982\n"
     ]
    }
   ],
   "source": [
    "print(percentile1)\n",
    "print(percentile2)\n",
    "print(percentile3)"
   ]
  },
  {
   "cell_type": "code",
   "execution_count": 106,
   "id": "b993d3a2",
   "metadata": {},
   "outputs": [],
   "source": [
    "quantile1 = np.quantile(stat_array, 0.25) # Çeyreklikleri hesaplar (0.25, 0.50, 0.75) (1. , 2. , 3.)\n",
    "quantile2 = np.quantile(stat_array, 0.50)\n",
    "quantile3 = np.quantile(stat_array, 0.75)"
   ]
  },
  {
   "cell_type": "code",
   "execution_count": 107,
   "id": "f22fdc6d",
   "metadata": {},
   "outputs": [
    {
     "name": "stdout",
     "output_type": "stream",
     "text": [
      "7.747772484156274\n",
      "10.19409045524564\n",
      "11.881678877490982\n"
     ]
    }
   ],
   "source": [
    "print(quantile1)\n",
    "print(quantile2)\n",
    "print(quantile3)"
   ]
  },
  {
   "cell_type": "code",
   "execution_count": 110,
   "id": "bd2585ba",
   "metadata": {},
   "outputs": [
    {
     "data": {
      "text/plain": [
       "13.919365542266808"
      ]
     },
     "execution_count": 110,
     "metadata": {},
     "output_type": "execute_result"
    }
   ],
   "source": [
    "ptp = np.ptp(stat_array) # Range (Max - Min) hesaplar --> np.max(stat_array) - np.min(stat_array) ile aynı şeyi verir\n",
    "ptp"
   ]
  },
  {
   "cell_type": "code",
   "execution_count": 113,
   "id": "1b07d814",
   "metadata": {},
   "outputs": [],
   "source": [
    "array1 = np.random.normal(size = 25)\n",
    "array2 = np.random.normal(size = 25)"
   ]
  },
  {
   "cell_type": "code",
   "execution_count": 114,
   "id": "fb9053d3",
   "metadata": {},
   "outputs": [
    {
     "data": {
      "text/plain": [
       "array([-0.21743606, -0.04352278,  0.08721328, -1.49012161,  1.15933957,\n",
       "       -1.07903581,  1.22503888, -1.34778719,  1.13853912, -0.03421693,\n",
       "        0.1076519 , -1.21530756, -2.47199359, -0.25461406, -1.83074544,\n",
       "       -0.84552744,  0.19831884, -1.7203077 , -0.39895582,  1.19449347,\n",
       "       -0.21165338, -0.61264227, -0.06174668,  0.95039265,  0.19761516])"
      ]
     },
     "execution_count": 114,
     "metadata": {},
     "output_type": "execute_result"
    }
   ],
   "source": [
    "array1"
   ]
  },
  {
   "cell_type": "code",
   "execution_count": 115,
   "id": "924e56cc",
   "metadata": {},
   "outputs": [
    {
     "data": {
      "text/plain": [
       "array([ 1.59570568,  1.71932536,  0.12228164,  0.41838079, -0.55406847,\n",
       "        0.1578302 ,  0.35720606, -1.41724329,  0.04712075,  2.05538237,\n",
       "       -0.24812855,  0.09560735, -0.44293843, -0.25355734, -1.00626535,\n",
       "        0.86269966, -0.54031881,  0.21246435, -0.45384627, -0.04887088,\n",
       "       -1.30471536,  1.16014841, -0.37666302, -1.1903837 ,  0.58873161])"
      ]
     },
     "execution_count": 115,
     "metadata": {},
     "output_type": "execute_result"
    }
   ],
   "source": [
    "array2"
   ]
  },
  {
   "cell_type": "code",
   "execution_count": 119,
   "id": "5e71c1fa",
   "metadata": {},
   "outputs": [
    {
     "data": {
      "text/plain": [
       "array([[1.        , 0.05894895],\n",
       "       [0.05894895, 1.        ]])"
      ]
     },
     "execution_count": 119,
     "metadata": {},
     "output_type": "execute_result"
    }
   ],
   "source": [
    "corelation = np.corrcoef(x = array1, y = array2) # Korelasyon katsayısını hesaplar\n",
    "corelation"
   ]
  },
  {
   "cell_type": "code",
   "execution_count": 124,
   "id": "e1fb092d",
   "metadata": {},
   "outputs": [
    {
     "data": {
      "text/plain": [
       "array([[1.03273215, 0.05451879],\n",
       "       [0.05451879, 0.82823332]])"
      ]
     },
     "execution_count": 124,
     "metadata": {},
     "output_type": "execute_result"
    }
   ],
   "source": [
    "covariance = np.cov(m = array1, y = array2) # Kovaryansı hesaplar\n",
    "covariance"
   ]
  }
 ],
 "metadata": {
  "kernelspec": {
   "display_name": "Python 3 (ipykernel)",
   "language": "python",
   "name": "python3"
  },
  "language_info": {
   "codemirror_mode": {
    "name": "ipython",
    "version": 3
   },
   "file_extension": ".py",
   "mimetype": "text/x-python",
   "name": "python",
   "nbconvert_exporter": "python",
   "pygments_lexer": "ipython3",
   "version": "3.9.7"
  }
 },
 "nbformat": 4,
 "nbformat_minor": 5
}
