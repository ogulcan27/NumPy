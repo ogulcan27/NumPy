{
 "cells": [
  {
   "cell_type": "markdown",
   "id": "6d950370",
   "metadata": {},
   "source": [
    "# NumPy (Numeric Python) Nedir?"
   ]
  },
  {
   "cell_type": "markdown",
   "id": "21793eb6",
   "metadata": {},
   "source": [
    "--> NumPy, Python'da bilimsel hesaplama için temel pakettir. Çok boyutlu bir dizi nesnesi, çeşitli türetilmiş nesneler (maskelenmiş diziler ve matrisler gibi) ve diziler üzerinde matematiksel, mantıksal, şekil işleme, sıralama, seçme, G/Ç dahil olmak üzere hızlı işlemler için çeşitli rutinler sağlayan bir Python kitaplığıdır. Ayrık Fourier dönüşümleri, temel doğrusal cebir, temel istatistiksel işlemler, rastgele simülasyon ve çok daha fazlasını yapmaya yarayan bir Python kitaplığıdır.\n",
    "\n",
    "--> NumPy paketinin merkezinde \"ndarray\" nesnesi bulunur. Bu, performans için derlenmiş kodda gerçekleştirilen birçok işlemle birlikte, homojen veri türlerinin n boyutlu dizilerini kapsar. NumPy dizileri ile standart Python dizileri arasında birkaç önemli farklar vardır:\n",
    "\n",
    "> NumPy dizileri, Python listelerinin (dinamik olarak büyüyebilen) aksine, oluşturulurken sabit bir boyuta sahiptir. Bir ndarray'in boyutunu değiştirmek, yeni bir dizi oluşturacak ve orijinali silecektir.\n",
    "\n",
    "> NumPy dizisindeki öğelerin hepsinin aynı veri türünde olması gerekir ve bu nedenle bellekte aynı boyutta olacaktır. İstisna: bir (Python, NumPy dahil) nesne dizilerine sahip olabilir, böylece farklı büyüklükteki öğelerin dizilerine izin verilir.\n",
    "\n",
    "> NumPy dizileri, çok sayıda veri üzerinde gelişmiş matematiksel ve diğer türdeki işlemleri kolaylaştırır. Tipik olarak, bu tür işlemler Python'un yerleşik dizileri kullanılarak mümkün olandan daha verimli ve daha az kodla yürütülür.\n",
    "\n",
    "> Artan sayıda bilimsel ve matematiksel Python tabanlı paketler NumPy dizilerini kullanıyor; Bunlar tipik olarak Python dizisi girişini desteklese de, bu girişi işlemeden önce NumPy dizilerine dönüştürürler ve genellikle NumPy dizilerinin çıktısını alırlar. Başka bir deyişle, günümüzün bilimsel/matematiksel Python tabanlı yazılımlarının çoğunu (belki de çoğunu) verimli bir şekilde kullanmak için, yalnızca Python'un yerleşik dizi türlerini nasıl kullanacağınızı bilmek yetersizdir - ayrıca NumPy dizilerinin nasıl kullanılacağını da bilmek gerekir."
   ]
  },
  {
   "cell_type": "markdown",
   "id": "e636e92a",
   "metadata": {},
   "source": [
    "## NumPy Kütüphanesini Çağırma "
   ]
  },
  {
   "cell_type": "code",
   "execution_count": 1,
   "id": "48d47f0a",
   "metadata": {},
   "outputs": [],
   "source": [
    "import numpy as np"
   ]
  },
  {
   "cell_type": "markdown",
   "id": "98388585",
   "metadata": {},
   "source": [
    "## Dizi Oluşturma ve Dizilerde İşlemler "
   ]
  },
  {
   "cell_type": "markdown",
   "id": "1b154dbc",
   "metadata": {},
   "source": [
    "###### Boş bir dizi oluşturma "
   ]
  },
  {
   "cell_type": "code",
   "execution_count": 2,
   "id": "423a921b",
   "metadata": {},
   "outputs": [
    {
     "name": "stdout",
     "output_type": "stream",
     "text": [
      "[]\n"
     ]
    }
   ],
   "source": [
    "vectory_empty = np.array([]) \n",
    "print(vectory_empty)"
   ]
  },
  {
   "cell_type": "markdown",
   "id": "61b2f875",
   "metadata": {},
   "source": [
    "###### Dolu bir dizi oluşturma "
   ]
  },
  {
   "cell_type": "code",
   "execution_count": 3,
   "id": "cd7faeaa",
   "metadata": {},
   "outputs": [
    {
     "name": "stdout",
     "output_type": "stream",
     "text": [
      "[ 3  4 -5  6  8]\n"
     ]
    }
   ],
   "source": [
    "vectory_initialized = np.array([3,4,-5,6,8]) #NumPy ile dolu bir dizi oluşturduk\n",
    "print(vectory_initialized)"
   ]
  },
  {
   "cell_type": "markdown",
   "id": "a7b1cd59",
   "metadata": {},
   "source": [
    "######  NumPy ile oluşturduğumuz dizi Python'un dizisi olmamasına rağmen Python'un dizisi gibi kullanılabiliyor."
   ]
  },
  {
   "cell_type": "code",
   "execution_count": 4,
   "id": "4a41aeb6",
   "metadata": {},
   "outputs": [
    {
     "name": "stdout",
     "output_type": "stream",
     "text": [
      "3\n",
      "4\n",
      "-5\n",
      "6\n",
      "8\n"
     ]
    }
   ],
   "source": [
    "for i in vectory_initialized:\n",
    "    print(i)"
   ]
  },
  {
   "cell_type": "markdown",
   "id": "325751a8",
   "metadata": {},
   "source": [
    "###### Diziye eleman ekleme  "
   ]
  },
  {
   "cell_type": "code",
   "execution_count": 5,
   "id": "6b03c1e1",
   "metadata": {},
   "outputs": [],
   "source": [
    "vector = np.array([6,4,3,9,8])"
   ]
  },
  {
   "cell_type": "code",
   "execution_count": 6,
   "id": "382bd0bd",
   "metadata": {},
   "outputs": [
    {
     "data": {
      "text/plain": [
       "array([6, 4, 3, 9, 8])"
      ]
     },
     "execution_count": 6,
     "metadata": {},
     "output_type": "execute_result"
    }
   ],
   "source": [
    "vector"
   ]
  },
  {
   "cell_type": "code",
   "execution_count": 7,
   "id": "fca766d4",
   "metadata": {},
   "outputs": [
    {
     "data": {
      "text/plain": [
       "array([ 6,  4,  3,  9,  8, 11])"
      ]
     },
     "execution_count": 7,
     "metadata": {},
     "output_type": "execute_result"
    }
   ],
   "source": [
    "np.append(vector,11)"
   ]
  },
  {
   "cell_type": "markdown",
   "id": "c0b665f7",
   "metadata": {},
   "source": [
    "###### Dizide istenilen indexe eleman ekleme "
   ]
  },
  {
   "cell_type": "code",
   "execution_count": 8,
   "id": "3db2848d",
   "metadata": {},
   "outputs": [
    {
     "data": {
      "text/plain": [
       "array([6, 4, 5, 3, 9, 8])"
      ]
     },
     "execution_count": 8,
     "metadata": {},
     "output_type": "execute_result"
    }
   ],
   "source": [
    "np.insert(vector,2,5) #np.insert(işlem yapılacak dizi, eklenmek istenen index, eklenilecek değer)"
   ]
  },
  {
   "cell_type": "markdown",
   "id": "832352e3",
   "metadata": {},
   "source": [
    "###### Diziden eleman silme "
   ]
  },
  {
   "cell_type": "code",
   "execution_count": 9,
   "id": "f29481dc",
   "metadata": {},
   "outputs": [
    {
     "data": {
      "text/plain": [
       "array([6, 4, 3, 8])"
      ]
     },
     "execution_count": 9,
     "metadata": {},
     "output_type": "execute_result"
    }
   ],
   "source": [
    "np.delete(vector,3) #np.delete(işlem yapılacak dizi, silinmek istenen index)"
   ]
  },
  {
   "cell_type": "markdown",
   "id": "8c46ed3f",
   "metadata": {},
   "source": [
    "+ Dikkat edersek her bir işlem yeni bir dizi yaratıyor. Yani vector üzerine append, insert, delete işlemlerini uyguladığımızda Mevcut dizide işlem yapmak yerine yeni bir dizi oluşuturup yapıyor"
   ]
  },
  {
   "cell_type": "code",
   "execution_count": 10,
   "id": "0d700b0d",
   "metadata": {},
   "outputs": [
    {
     "data": {
      "text/plain": [
       "array([6, 4, 3, 9, 8])"
      ]
     },
     "execution_count": 10,
     "metadata": {},
     "output_type": "execute_result"
    }
   ],
   "source": [
    "vector "
   ]
  },
  {
   "cell_type": "markdown",
   "id": "af4370fd",
   "metadata": {},
   "source": [
    "###### Dizinin Türünü Gösterme  "
   ]
  },
  {
   "cell_type": "code",
   "execution_count": 11,
   "id": "28a2ba53",
   "metadata": {},
   "outputs": [
    {
     "name": "stdout",
     "output_type": "stream",
     "text": [
      "Tür: int32\n"
     ]
    }
   ],
   "source": [
    "vector_1 = np.array([6,2,7,3,8])\n",
    "print(\"Tür:\", vector.dtype)"
   ]
  },
  {
   "cell_type": "markdown",
   "id": "06ababd7",
   "metadata": {},
   "source": [
    "##### Sadece 1 tanesinin float olması, dizinin türünü float olarak göstermesine neden olur"
   ]
  },
  {
   "cell_type": "code",
   "execution_count": 12,
   "id": "09ac0827",
   "metadata": {},
   "outputs": [
    {
     "name": "stdout",
     "output_type": "stream",
     "text": [
      "Tür: float64\n"
     ]
    }
   ],
   "source": [
    "vector_2 = np.array([6,2,7.5,3,8]) \n",
    "print(f\"Tür: {vector_2.dtype}\")"
   ]
  },
  {
   "cell_type": "markdown",
   "id": "e71a24d1",
   "metadata": {},
   "source": [
    "###### Diziyi 64 byte'a çevirme (Bu daha) "
   ]
  },
  {
   "cell_type": "code",
   "execution_count": 13,
   "id": "6de1b582",
   "metadata": {},
   "outputs": [
    {
     "name": "stdout",
     "output_type": "stream",
     "text": [
      "Tür: int64\n"
     ]
    }
   ],
   "source": [
    "vector_3 = np.array([6,2,7,8], np.int64)\n",
    "print(\"Tür:\", vector_3.dtype)"
   ]
  },
  {
   "cell_type": "markdown",
   "id": "ec94b5e4",
   "metadata": {},
   "source": [
    "###### Dizideki sayıları yuvarlama, np.around() ile yapılır. "
   ]
  },
  {
   "cell_type": "code",
   "execution_count": 14,
   "id": "9fbdb548",
   "metadata": {},
   "outputs": [],
   "source": [
    "real = np.array([6.4325, 2.5436, 7.5436, 3.5432, 8.9543])"
   ]
  },
  {
   "cell_type": "code",
   "execution_count": 15,
   "id": "3de4f714",
   "metadata": {},
   "outputs": [
    {
     "data": {
      "text/plain": [
       "array([6.4325, 2.5436, 7.5436, 3.5432, 8.9543])"
      ]
     },
     "execution_count": 15,
     "metadata": {},
     "output_type": "execute_result"
    }
   ],
   "source": [
    "real"
   ]
  },
  {
   "cell_type": "code",
   "execution_count": 16,
   "id": "4c03c842",
   "metadata": {},
   "outputs": [],
   "source": [
    "rounds = np.around(real)"
   ]
  },
  {
   "cell_type": "code",
   "execution_count": 17,
   "id": "89f816de",
   "metadata": {},
   "outputs": [
    {
     "data": {
      "text/plain": [
       "array([6., 3., 8., 4., 9.])"
      ]
     },
     "execution_count": 17,
     "metadata": {},
     "output_type": "execute_result"
    }
   ],
   "source": [
    "rounds"
   ]
  },
  {
   "cell_type": "markdown",
   "id": "bfa52a0f",
   "metadata": {},
   "source": [
    "###### Yuvarlama yapmamız dizinin türünü değiştirmez "
   ]
  },
  {
   "cell_type": "code",
   "execution_count": 18,
   "id": "e07409e2",
   "metadata": {},
   "outputs": [
    {
     "data": {
      "text/plain": [
       "dtype('float64')"
      ]
     },
     "execution_count": 18,
     "metadata": {},
     "output_type": "execute_result"
    }
   ],
   "source": [
    "rounds.dtype "
   ]
  },
  {
   "cell_type": "markdown",
   "id": "e19933e5",
   "metadata": {},
   "source": [
    "###### decimals parametresi ile küsüratın kaç basamağını istediğimizi belirtebiliriz "
   ]
  },
  {
   "cell_type": "code",
   "execution_count": 19,
   "id": "ca0ac888",
   "metadata": {},
   "outputs": [],
   "source": [
    "rounders = np.around(real, decimals = 2)"
   ]
  },
  {
   "cell_type": "code",
   "execution_count": 20,
   "id": "c0cd7f88",
   "metadata": {},
   "outputs": [
    {
     "data": {
      "text/plain": [
       "array([6.43, 2.54, 7.54, 3.54, 8.95])"
      ]
     },
     "execution_count": 20,
     "metadata": {},
     "output_type": "execute_result"
    }
   ],
   "source": [
    "rounders"
   ]
  },
  {
   "cell_type": "markdown",
   "id": "6f6162f3",
   "metadata": {},
   "source": [
    "###### Dizideki maksimum ve minimum değerleri bulma "
   ]
  },
  {
   "cell_type": "code",
   "execution_count": 21,
   "id": "d45012b9",
   "metadata": {},
   "outputs": [],
   "source": [
    "new_array = np.array([123,43,5,5,3,5,435,4,34,3,-21])"
   ]
  },
  {
   "cell_type": "code",
   "execution_count": 22,
   "id": "12041e82",
   "metadata": {
    "scrolled": true
   },
   "outputs": [
    {
     "data": {
      "text/plain": [
       "435"
      ]
     },
     "execution_count": 22,
     "metadata": {},
     "output_type": "execute_result"
    }
   ],
   "source": [
    "np.max(new_array)"
   ]
  },
  {
   "cell_type": "code",
   "execution_count": 23,
   "id": "dab5d687",
   "metadata": {},
   "outputs": [
    {
     "data": {
      "text/plain": [
       "-21"
      ]
     },
     "execution_count": 23,
     "metadata": {},
     "output_type": "execute_result"
    }
   ],
   "source": [
    "np.min(new_array)"
   ]
  },
  {
   "cell_type": "markdown",
   "id": "e39217ea",
   "metadata": {},
   "source": [
    "##### Listeden eleman çağırır gibi NumPy dizisinden de eleman çağırabiliriz "
   ]
  },
  {
   "cell_type": "code",
   "execution_count": 24,
   "id": "f194f1a5",
   "metadata": {},
   "outputs": [
    {
     "data": {
      "text/plain": [
       "array([21.851, 20.975, 21.75 , 24.747, 21.441])"
      ]
     },
     "execution_count": 24,
     "metadata": {},
     "output_type": "execute_result"
    }
   ],
   "source": [
    "bmi = np.array([21.851, 20.975, 21.750, 24.747, 21.441])\n",
    "bmi"
   ]
  },
  {
   "cell_type": "code",
   "execution_count": 25,
   "id": "d3fbd394",
   "metadata": {
    "scrolled": true
   },
   "outputs": [
    {
     "data": {
      "text/plain": [
       "20.975"
      ]
     },
     "execution_count": 25,
     "metadata": {},
     "output_type": "execute_result"
    }
   ],
   "source": [
    "bmi[1]"
   ]
  },
  {
   "cell_type": "markdown",
   "id": "ed0af001",
   "metadata": {},
   "source": [
    "###### Boolean içeren bir diziyi tamamen sayılardan oluşan bir dizi üzerinden oluşturabiliriz "
   ]
  },
  {
   "cell_type": "code",
   "execution_count": 26,
   "id": "bd4b3270",
   "metadata": {},
   "outputs": [
    {
     "data": {
      "text/plain": [
       "array([False, False, False,  True, False])"
      ]
     },
     "execution_count": 26,
     "metadata": {},
     "output_type": "execute_result"
    }
   ],
   "source": [
    "bmi > 23"
   ]
  },
  {
   "cell_type": "markdown",
   "id": "336ea8c8",
   "metadata": {},
   "source": [
    "+ bmi adlı diziden light adlı şartı sağlayanları bir dizi haline getiriyoruz "
   ]
  },
  {
   "cell_type": "code",
   "execution_count": 27,
   "id": "f8dd60fb",
   "metadata": {},
   "outputs": [
    {
     "data": {
      "text/plain": [
       "array([ True,  True,  True, False,  True])"
      ]
     },
     "execution_count": 27,
     "metadata": {},
     "output_type": "execute_result"
    }
   ],
   "source": [
    "light = bmi < 22\n",
    "light"
   ]
  },
  {
   "cell_type": "code",
   "execution_count": 28,
   "id": "af077a9f",
   "metadata": {},
   "outputs": [
    {
     "data": {
      "text/plain": [
       "array([21.851, 20.975, 21.75 , 21.441])"
      ]
     },
     "execution_count": 28,
     "metadata": {},
     "output_type": "execute_result"
    }
   ],
   "source": [
    "bmi[light]"
   ]
  },
  {
   "cell_type": "markdown",
   "id": "c8818012",
   "metadata": {},
   "source": [
    "######  Vektördeki, İstediğimiz Aralıktaki Sayıları Getirme"
   ]
  },
  {
   "cell_type": "code",
   "execution_count": 29,
   "id": "517291c4",
   "metadata": {},
   "outputs": [],
   "source": [
    "untamed = np.array([3,-21,4,-6,11,26,9,-3,12,-30,15])"
   ]
  },
  {
   "cell_type": "markdown",
   "id": "48b7e22b",
   "metadata": {},
   "source": [
    "+ -10'dan küçük olanları -10 olarak, 10'dan büyük olanları 10 olarak yazacaktır"
   ]
  },
  {
   "cell_type": "code",
   "execution_count": 30,
   "id": "eb1bdae4",
   "metadata": {},
   "outputs": [],
   "source": [
    "clipped = np.clip(untamed, -10, 10)"
   ]
  },
  {
   "cell_type": "code",
   "execution_count": 31,
   "id": "72d4b2d6",
   "metadata": {},
   "outputs": [
    {
     "data": {
      "text/plain": [
       "array([  3, -10,   4,  -6,  10,  10,   9,  -3,  10, -10,  10])"
      ]
     },
     "execution_count": 31,
     "metadata": {},
     "output_type": "execute_result"
    }
   ],
   "source": [
    "clipped"
   ]
  },
  {
   "cell_type": "markdown",
   "id": "bb32c4b0",
   "metadata": {},
   "source": [
    "###### True = 1 ve False = 0 olarak görülür"
   ]
  },
  {
   "cell_type": "code",
   "execution_count": 32,
   "id": "babbaec1",
   "metadata": {},
   "outputs": [
    {
     "data": {
      "text/plain": [
       "array([4, 5, 2])"
      ]
     },
     "execution_count": 32,
     "metadata": {},
     "output_type": "execute_result"
    }
   ],
   "source": [
    " np.array([True, 1, 2]) + np.array([3, 4, False])"
   ]
  },
  {
   "cell_type": "markdown",
   "id": "783b8a45",
   "metadata": {},
   "source": [
    "###### Dizilerin indexlerini çağırmak "
   ]
  },
  {
   "cell_type": "code",
   "execution_count": 33,
   "id": "3c9af2f1",
   "metadata": {},
   "outputs": [],
   "source": [
    "vector4 = np.array([100,123,324,111,110,115,146,127,139])\n",
    "vector4_index = vector4[3:8]"
   ]
  },
  {
   "cell_type": "code",
   "execution_count": 34,
   "id": "fb462914",
   "metadata": {},
   "outputs": [
    {
     "data": {
      "text/plain": [
       "array([111, 110, 115, 146, 127])"
      ]
     },
     "execution_count": 34,
     "metadata": {},
     "output_type": "execute_result"
    }
   ],
   "source": [
    "vector4_index"
   ]
  },
  {
   "cell_type": "markdown",
   "id": "7ba5be4e",
   "metadata": {},
   "source": [
    "###### Dizideki elemanları küçükten büyüğe sıralamak ( np.sort() ) "
   ]
  },
  {
   "cell_type": "code",
   "execution_count": 35,
   "id": "86dbf286",
   "metadata": {},
   "outputs": [
    {
     "data": {
      "text/plain": [
       "array([100, 110, 111, 115, 123, 127, 139, 146, 324])"
      ]
     },
     "execution_count": 35,
     "metadata": {},
     "output_type": "execute_result"
    }
   ],
   "source": [
    "np.sort(vector4)"
   ]
  },
  {
   "cell_type": "markdown",
   "id": "704eb9a9",
   "metadata": {},
   "source": [
    "## Matematiksel İşlemler "
   ]
  },
  {
   "cell_type": "code",
   "execution_count": 36,
   "id": "96e92775",
   "metadata": {},
   "outputs": [],
   "source": [
    "vector1 = np.array([1.1,1.2,1.3])\n",
    "vector2 = np.array([2.1,2.2,2.3])"
   ]
  },
  {
   "cell_type": "markdown",
   "id": "90a069be",
   "metadata": {},
   "source": [
    "###### Toplama "
   ]
  },
  {
   "cell_type": "code",
   "execution_count": 37,
   "id": "d30bc31e",
   "metadata": {},
   "outputs": [],
   "source": [
    "added = np.add(vector1, vector2)"
   ]
  },
  {
   "cell_type": "code",
   "execution_count": 38,
   "id": "21c819c5",
   "metadata": {},
   "outputs": [
    {
     "data": {
      "text/plain": [
       "array([3.2, 3.4, 3.6])"
      ]
     },
     "execution_count": 38,
     "metadata": {},
     "output_type": "execute_result"
    }
   ],
   "source": [
    "added"
   ]
  },
  {
   "cell_type": "markdown",
   "id": "c3585d9c",
   "metadata": {},
   "source": [
    "###### Çıkarma "
   ]
  },
  {
   "cell_type": "code",
   "execution_count": 39,
   "id": "611fac2b",
   "metadata": {},
   "outputs": [],
   "source": [
    "substracted = np.subtract(vector1, vector2)"
   ]
  },
  {
   "cell_type": "code",
   "execution_count": 40,
   "id": "83078c58",
   "metadata": {},
   "outputs": [
    {
     "data": {
      "text/plain": [
       "array([-1., -1., -1.])"
      ]
     },
     "execution_count": 40,
     "metadata": {},
     "output_type": "execute_result"
    }
   ],
   "source": [
    "substracted"
   ]
  },
  {
   "cell_type": "markdown",
   "id": "e4585bd5",
   "metadata": {},
   "source": [
    "###### Çarpma "
   ]
  },
  {
   "cell_type": "code",
   "execution_count": 41,
   "id": "e0f90377",
   "metadata": {},
   "outputs": [],
   "source": [
    "multipled = np.multiply(vector1, vector2)"
   ]
  },
  {
   "cell_type": "code",
   "execution_count": 42,
   "id": "1d3fcc85",
   "metadata": {},
   "outputs": [
    {
     "data": {
      "text/plain": [
       "array([2.31, 2.64, 2.99])"
      ]
     },
     "execution_count": 42,
     "metadata": {},
     "output_type": "execute_result"
    }
   ],
   "source": [
    "multipled"
   ]
  },
  {
   "cell_type": "markdown",
   "id": "c10708b8",
   "metadata": {},
   "source": [
    "###### Bölme "
   ]
  },
  {
   "cell_type": "code",
   "execution_count": 43,
   "id": "8af5c45c",
   "metadata": {},
   "outputs": [],
   "source": [
    "divided = np.divide(vector1, vector2)"
   ]
  },
  {
   "cell_type": "code",
   "execution_count": 44,
   "id": "3e5d3970",
   "metadata": {},
   "outputs": [
    {
     "data": {
      "text/plain": [
       "array([0.52380952, 0.54545455, 0.56521739])"
      ]
     },
     "execution_count": 44,
     "metadata": {},
     "output_type": "execute_result"
    }
   ],
   "source": [
    "divided"
   ]
  },
  {
   "cell_type": "markdown",
   "id": "c568d697",
   "metadata": {},
   "source": [
    "###### Kök Alma "
   ]
  },
  {
   "cell_type": "code",
   "execution_count": 45,
   "id": "a7788981",
   "metadata": {},
   "outputs": [],
   "source": [
    "rooted = np.sqrt(vector1)"
   ]
  },
  {
   "cell_type": "code",
   "execution_count": 46,
   "id": "12a4c62d",
   "metadata": {},
   "outputs": [
    {
     "data": {
      "text/plain": [
       "array([1.04880885, 1.09544512, 1.14017543])"
      ]
     },
     "execution_count": 46,
     "metadata": {},
     "output_type": "execute_result"
    }
   ],
   "source": [
    "rooted"
   ]
  },
  {
   "cell_type": "markdown",
   "id": "3d33f3fa",
   "metadata": {},
   "source": [
    "###### Dizinin Toplamını Bulma "
   ]
  },
  {
   "cell_type": "code",
   "execution_count": 47,
   "id": "2561cb76",
   "metadata": {},
   "outputs": [],
   "source": [
    "summed = np.sum(vector1)"
   ]
  },
  {
   "cell_type": "code",
   "execution_count": 48,
   "id": "01c5c208",
   "metadata": {},
   "outputs": [
    {
     "data": {
      "text/plain": [
       "3.5999999999999996"
      ]
     },
     "execution_count": 48,
     "metadata": {},
     "output_type": "execute_result"
    }
   ],
   "source": [
    "summed"
   ]
  },
  {
   "cell_type": "markdown",
   "id": "10f00975",
   "metadata": {},
   "source": [
    "###### İki Vektörün Karşılıklı Elemanlarını Çarpıp Onların Toplamını Bulma (Skaler Çarpım) "
   ]
  },
  {
   "cell_type": "code",
   "execution_count": 49,
   "id": "d569adf1",
   "metadata": {},
   "outputs": [],
   "source": [
    "dotted = np.dot(vector1, vector2)"
   ]
  },
  {
   "cell_type": "code",
   "execution_count": 50,
   "id": "b08e0f2e",
   "metadata": {},
   "outputs": [
    {
     "data": {
      "text/plain": [
       "7.940000000000001"
      ]
     },
     "execution_count": 50,
     "metadata": {},
     "output_type": "execute_result"
    }
   ],
   "source": [
    "dotted"
   ]
  },
  {
   "cell_type": "markdown",
   "id": "1280e162",
   "metadata": {},
   "source": [
    "##### np.minimum() Bütün değerler girilen sayıdan küçük olsun (Minimize et gibi bir anlamı var)"
   ]
  },
  {
   "cell_type": "code",
   "execution_count": 51,
   "id": "18efdfd7",
   "metadata": {},
   "outputs": [],
   "source": [
    "mini = np.minimum(untamed, 10)"
   ]
  },
  {
   "cell_type": "code",
   "execution_count": 52,
   "id": "980d4c9a",
   "metadata": {},
   "outputs": [
    {
     "data": {
      "text/plain": [
       "array([  3, -21,   4,  -6,  10,  10,   9,  -3,  10, -30,  10])"
      ]
     },
     "execution_count": 52,
     "metadata": {},
     "output_type": "execute_result"
    }
   ],
   "source": [
    "mini"
   ]
  },
  {
   "cell_type": "markdown",
   "id": "9a3900d9",
   "metadata": {},
   "source": [
    "##### np.maximum() Bütün değerler girilen sayıdan büyük olsun (Maximize et gibi bir anlamı var)"
   ]
  },
  {
   "cell_type": "code",
   "execution_count": 53,
   "id": "9b0b81ba",
   "metadata": {},
   "outputs": [],
   "source": [
    "maxi = np.maximum(untamed, -10)"
   ]
  },
  {
   "cell_type": "code",
   "execution_count": 54,
   "id": "1ff0dcbf",
   "metadata": {
    "scrolled": true
   },
   "outputs": [
    {
     "data": {
      "text/plain": [
       "array([  3, -10,   4,  -6,  11,  26,   9,  -3,  12, -10,  15])"
      ]
     },
     "execution_count": 54,
     "metadata": {},
     "output_type": "execute_result"
    }
   ],
   "source": [
    "maxi"
   ]
  },
  {
   "cell_type": "markdown",
   "id": "84c1030a",
   "metadata": {},
   "source": [
    "##### Trigonometrik işlemler"
   ]
  },
  {
   "cell_type": "code",
   "execution_count": 55,
   "id": "9329af07",
   "metadata": {},
   "outputs": [],
   "source": [
    "vector3 = np.array([0,30,45,60,90])\n",
    "vecsin = np.sin(vector3)\n",
    "veccos = np.cos(vector3)\n",
    "vectan = np.tan(vector3)"
   ]
  },
  {
   "cell_type": "code",
   "execution_count": 56,
   "id": "d65c0930",
   "metadata": {},
   "outputs": [
    {
     "data": {
      "text/plain": [
       "array([ 0.        , -0.98803162,  0.85090352, -0.30481062,  0.89399666])"
      ]
     },
     "execution_count": 56,
     "metadata": {},
     "output_type": "execute_result"
    }
   ],
   "source": [
    "vecsin"
   ]
  },
  {
   "cell_type": "code",
   "execution_count": 57,
   "id": "11a03c03",
   "metadata": {},
   "outputs": [
    {
     "data": {
      "text/plain": [
       "array([ 1.        ,  0.15425145,  0.52532199, -0.95241298, -0.44807362])"
      ]
     },
     "execution_count": 57,
     "metadata": {},
     "output_type": "execute_result"
    }
   ],
   "source": [
    "veccos"
   ]
  },
  {
   "cell_type": "code",
   "execution_count": 58,
   "id": "02cbb504",
   "metadata": {},
   "outputs": [
    {
     "data": {
      "text/plain": [
       "array([ 0.        , -6.4053312 ,  1.61977519,  0.32004039, -1.99520041])"
      ]
     },
     "execution_count": 58,
     "metadata": {},
     "output_type": "execute_result"
    }
   ],
   "source": [
    "vectan"
   ]
  },
  {
   "cell_type": "markdown",
   "id": "a9f2ec9b",
   "metadata": {},
   "source": [
    "# !!!!!!"
   ]
  },
  {
   "cell_type": "markdown",
   "id": "50a684c0",
   "metadata": {},
   "source": [
    "## Boş Bir Diziyi Doldurmak"
   ]
  },
  {
   "cell_type": "markdown",
   "id": "f0922ec8",
   "metadata": {},
   "source": [
    "###### Parantez içine direkt olarak sayı girince girilen sayı kadar rasgele sayı atamak (parantez içine girilen sayı kadar atama yapar)"
   ]
  },
  {
   "cell_type": "code",
   "execution_count": 59,
   "id": "8a03b45d",
   "metadata": {},
   "outputs": [
    {
     "data": {
      "text/plain": [
       "array([6.4053312 , 1.61977519, 0.32004039, 1.99520041])"
      ]
     },
     "execution_count": 59,
     "metadata": {},
     "output_type": "execute_result"
    }
   ],
   "source": [
    "empty = np.empty(4)\n",
    "empty"
   ]
  },
  {
   "cell_type": "markdown",
   "id": "387922af",
   "metadata": {},
   "source": [
    "###### İçi tamamen 0 (sıfır) ile dolu dizi oluşturmak"
   ]
  },
  {
   "cell_type": "code",
   "execution_count": 60,
   "id": "fdc0e53a",
   "metadata": {},
   "outputs": [
    {
     "data": {
      "text/plain": [
       "array([0., 0., 0., 0.])"
      ]
     },
     "execution_count": 60,
     "metadata": {},
     "output_type": "execute_result"
    }
   ],
   "source": [
    "zeros = np.zeros(4)\n",
    "zeros"
   ]
  },
  {
   "cell_type": "markdown",
   "id": "cad6bd36",
   "metadata": {},
   "source": [
    "###### İçi tamamen 1 (bir) ile dolu dizi oluşturmak "
   ]
  },
  {
   "cell_type": "code",
   "execution_count": 61,
   "id": "b7b6c901",
   "metadata": {},
   "outputs": [
    {
     "data": {
      "text/plain": [
       "array([1., 1., 1., 1.])"
      ]
     },
     "execution_count": 61,
     "metadata": {},
     "output_type": "execute_result"
    }
   ],
   "source": [
    "ones = np.ones(4)\n",
    "ones"
   ]
  },
  {
   "cell_type": "markdown",
   "id": "3ff86ec6",
   "metadata": {},
   "source": [
    "###### İçi tamamen istediğimiz sayı ile dolu dizi oluşturmak "
   ]
  },
  {
   "cell_type": "code",
   "execution_count": 62,
   "id": "0568ceee",
   "metadata": {},
   "outputs": [
    {
     "data": {
      "text/plain": [
       "array([3.14, 3.14, 3.14, 3.14])"
      ]
     },
     "execution_count": 62,
     "metadata": {},
     "output_type": "execute_result"
    }
   ],
   "source": [
    "fulls = np.full(4, 3.14)\n",
    "fulls"
   ]
  },
  {
   "cell_type": "markdown",
   "id": "58261559",
   "metadata": {},
   "source": [
    "###### Verilen vektördeki eleman sayısı kadar elemanı olan dizi üretmek "
   ]
  },
  {
   "cell_type": "code",
   "execution_count": 63,
   "id": "977d320e",
   "metadata": {},
   "outputs": [
    {
     "data": {
      "text/plain": [
       "array([1, 1, 1, 1, 1, 1, 1, 1, 1])"
      ]
     },
     "execution_count": 63,
     "metadata": {},
     "output_type": "execute_result"
    }
   ],
   "source": [
    "vector5 = np.array([4,1,2,5,5,6,1,3,4])\n",
    "likes = np.ones_like(vector5)\n",
    "likes"
   ]
  },
  {
   "cell_type": "code",
   "execution_count": 64,
   "id": "ee7e04fc",
   "metadata": {},
   "outputs": [
    {
     "data": {
      "text/plain": [
       "array([0, 0, 0, 0, 0, 0, 0, 0, 0])"
      ]
     },
     "execution_count": 64,
     "metadata": {},
     "output_type": "execute_result"
    }
   ],
   "source": [
    "likes1 = np.zeros_like(vector5)\n",
    "likes1"
   ]
  },
  {
   "cell_type": "code",
   "execution_count": 65,
   "id": "c1f12241",
   "metadata": {},
   "outputs": [
    {
     "data": {
      "text/plain": [
       "array([27, 27, 27, 27, 27, 27, 27, 27, 27])"
      ]
     },
     "execution_count": 65,
     "metadata": {},
     "output_type": "execute_result"
    }
   ],
   "source": [
    "likes2 = np.full_like(vector5 , 27)\n",
    "likes2"
   ]
  },
  {
   "cell_type": "markdown",
   "id": "79e272a0",
   "metadata": {},
   "source": [
    "###### np.linspace() ile belirli aralıklarla sayı içeren dizi oluşturulabilir"
   ]
  },
  {
   "cell_type": "code",
   "execution_count": 66,
   "id": "e4a36f39",
   "metadata": {},
   "outputs": [
    {
     "data": {
      "text/plain": [
       "array([ 0. ,  2.5,  5. ,  7.5, 10. ])"
      ]
     },
     "execution_count": 66,
     "metadata": {},
     "output_type": "execute_result"
    }
   ],
   "source": [
    "np.linspace(0, 10, num = 5)"
   ]
  },
  {
   "cell_type": "markdown",
   "id": "4fe63658",
   "metadata": {},
   "source": [
    "## Rasgele Sayı Üretmek"
   ]
  },
  {
   "cell_type": "markdown",
   "id": "0019b11c",
   "metadata": {},
   "source": [
    "###### Normal dağılım olmayan rasgele sayıları üretmek "
   ]
  },
  {
   "cell_type": "code",
   "execution_count": 67,
   "id": "3d6f46d1",
   "metadata": {},
   "outputs": [
    {
     "data": {
      "text/plain": [
       "array([0.2271367 , 0.17081541, 0.60347727, 0.2980972 , 0.11995641,\n",
       "       0.4274201 , 0.42190093, 0.75296595, 0.08649498, 0.19364939])"
      ]
     },
     "execution_count": 67,
     "metadata": {},
     "output_type": "execute_result"
    }
   ],
   "source": [
    "random_uniform = np.random.uniform(size = 10)\n",
    "random_uniform"
   ]
  },
  {
   "cell_type": "markdown",
   "id": "294731f1",
   "metadata": {},
   "source": [
    "###### Bir aralıkta Normal dağılım olmayan rasgele sayılar üretmek"
   ]
  },
  {
   "cell_type": "code",
   "execution_count": 68,
   "id": "32bb181a",
   "metadata": {},
   "outputs": [
    {
     "data": {
      "text/plain": [
       "array([4.47930752, 1.2323247 , 1.23628499, 2.56322919, 3.75798674,\n",
       "       5.41354867, 4.71378681, 3.02836208, 4.88265295, 3.47044448])"
      ]
     },
     "execution_count": 68,
     "metadata": {},
     "output_type": "execute_result"
    }
   ],
   "source": [
    "random_uniform_1 = np.random.uniform(low = 1, high = 6, size = 10)\n",
    "random_uniform_1"
   ]
  },
  {
   "cell_type": "markdown",
   "id": "8514bc4c",
   "metadata": {},
   "source": [
    "###### Normal dağılıma göre rasgele sayılar üretmek (Ortalama ,1.65 ve standart sapma, 0.80'dir) "
   ]
  },
  {
   "cell_type": "code",
   "execution_count": 69,
   "id": "c7796311",
   "metadata": {},
   "outputs": [
    {
     "data": {
      "text/plain": [
       "array([1.12382487, 1.82937923, 1.91325308, 1.66660414, 3.03268953,\n",
       "       1.87509412, 3.07032622, 1.35135455, 2.13545232, 1.37754942])"
      ]
     },
     "execution_count": 69,
     "metadata": {},
     "output_type": "execute_result"
    }
   ],
   "source": [
    "random_normal = np.random.normal(loc = 1.65, scale = 0.80, size = 10)\n",
    "random_normal"
   ]
  },
  {
   "cell_type": "markdown",
   "id": "5d68483d",
   "metadata": {},
   "source": [
    "###### Tablo olarak sayı üretmek (2 Boyutlu) "
   ]
  },
  {
   "cell_type": "code",
   "execution_count": 70,
   "id": "cf302d56",
   "metadata": {},
   "outputs": [
    {
     "data": {
      "text/plain": [
       "array([[2.5294053 , 2.68954013, 3.15214688, 2.1992701 , 1.95536948],\n",
       "       [4.78221139, 2.37517874, 2.52477604, 2.70875587, 2.32386651],\n",
       "       [1.48402268, 1.91669571, 1.39223502, 2.05719237, 1.07189308],\n",
       "       [1.28035313, 1.22917363, 5.0775706 , 2.72335342, 5.94594979],\n",
       "       [5.96632735, 3.48085165, 3.1248707 , 2.0609342 , 1.10746893],\n",
       "       [2.92898195, 4.57108071, 4.8012248 , 1.24929504, 1.30077318],\n",
       "       [5.89546408, 2.34027996, 3.80401421, 5.38353895, 4.13297742],\n",
       "       [3.97563156, 4.52113928, 5.27188367, 4.43062555, 1.66479092],\n",
       "       [3.61003481, 2.54596283, 5.58631719, 4.17295777, 2.56670401],\n",
       "       [5.23471199, 2.46926987, 5.72339364, 2.40760955, 4.09894891]])"
      ]
     },
     "execution_count": 70,
     "metadata": {},
     "output_type": "execute_result"
    }
   ],
   "source": [
    "table = np.random.uniform(low = 1, high = 6, size = (10,5))\n",
    "table"
   ]
  },
  {
   "cell_type": "markdown",
   "id": "951028dd",
   "metadata": {},
   "source": [
    "###### Tablo olarak sayı üretmek (3 Boyutlu) "
   ]
  },
  {
   "cell_type": "code",
   "execution_count": 71,
   "id": "4936cfab",
   "metadata": {},
   "outputs": [
    {
     "data": {
      "text/plain": [
       "array([[[2.4019585 , 2.86117247],\n",
       "        [5.74071723, 4.41524564],\n",
       "        [4.85221572, 2.3303903 ],\n",
       "        [2.66753929, 4.9223736 ],\n",
       "        [5.91731381, 3.58575243]],\n",
       "\n",
       "       [[5.94699066, 2.35523377],\n",
       "        [4.25196429, 2.47170784],\n",
       "        [5.84967635, 4.41815192],\n",
       "        [3.64906135, 5.5807845 ],\n",
       "        [4.17931926, 3.49000244]],\n",
       "\n",
       "       [[4.91811215, 2.57036587],\n",
       "        [4.31432294, 4.00109608],\n",
       "        [2.81341689, 1.33837907],\n",
       "        [4.52021529, 4.20704198],\n",
       "        [1.94173165, 1.65584501]],\n",
       "\n",
       "       [[3.31273712, 3.58568129],\n",
       "        [5.51458733, 5.318496  ],\n",
       "        [4.15990783, 1.11153118],\n",
       "        [5.58137598, 1.7200468 ],\n",
       "        [4.61983081, 1.71011916]],\n",
       "\n",
       "       [[2.55300407, 5.7615465 ],\n",
       "        [2.21151842, 3.78537297],\n",
       "        [5.33314805, 3.89569915],\n",
       "        [5.6113766 , 3.46639687],\n",
       "        [2.1101271 , 3.45149451]],\n",
       "\n",
       "       [[3.60281349, 3.42082434],\n",
       "        [2.68103723, 1.10310032],\n",
       "        [5.06139912, 1.88993542],\n",
       "        [4.05566826, 5.72322911],\n",
       "        [5.60720613, 4.45891742]],\n",
       "\n",
       "       [[4.42783287, 3.97769337],\n",
       "        [4.89880565, 5.64299679],\n",
       "        [1.35845849, 1.63316065],\n",
       "        [4.78852811, 2.04380893],\n",
       "        [2.64372682, 5.65071146]],\n",
       "\n",
       "       [[1.10578399, 5.45915799],\n",
       "        [2.55661822, 2.70537561],\n",
       "        [5.84384459, 1.54102069],\n",
       "        [2.97475926, 2.50014863],\n",
       "        [5.27356876, 5.67357968]],\n",
       "\n",
       "       [[3.21789812, 1.3654583 ],\n",
       "        [1.9864146 , 1.26395383],\n",
       "        [5.41927557, 5.42950165],\n",
       "        [2.15418267, 1.26697177],\n",
       "        [4.01501509, 1.45227699]],\n",
       "\n",
       "       [[5.84520094, 5.57650291],\n",
       "        [2.49530346, 5.21448162],\n",
       "        [5.47759882, 1.26912628],\n",
       "        [5.45891964, 5.66718592],\n",
       "        [4.8315658 , 2.01514633]]])"
      ]
     },
     "execution_count": 71,
     "metadata": {},
     "output_type": "execute_result"
    }
   ],
   "source": [
    "table1 = np.random.uniform(low = 1, high = 6, size = (10,5,2))\n",
    "table1"
   ]
  },
  {
   "cell_type": "markdown",
   "id": "eeac3ff3",
   "metadata": {},
   "source": [
    "## 2 Boyutlu Dizilerde İşlemler"
   ]
  },
  {
   "cell_type": "code",
   "execution_count": 72,
   "id": "0a52bc8a",
   "metadata": {},
   "outputs": [],
   "source": [
    "matrix = np.array([\n",
    "    [11.0, 12.0, 13.0],\n",
    "    [21.0, 22.0, 23.0],\n",
    "    [31.0, 32.0, 33.0]\n",
    "])"
   ]
  },
  {
   "cell_type": "code",
   "execution_count": 73,
   "id": "f81a9887",
   "metadata": {},
   "outputs": [
    {
     "data": {
      "text/plain": [
       "array([[11., 12., 13.],\n",
       "       [21., 22., 23.],\n",
       "       [31., 32., 33.]])"
      ]
     },
     "execution_count": 73,
     "metadata": {},
     "output_type": "execute_result"
    }
   ],
   "source": [
    "matrix"
   ]
  },
  {
   "cell_type": "code",
   "execution_count": 74,
   "id": "31ea46e6",
   "metadata": {
    "scrolled": true
   },
   "outputs": [
    {
     "data": {
      "text/plain": [
       "array([[ 1.73,  1.68,  1.71,  1.89,  1.79],\n",
       "       [65.4 , 69.2 , 63.6 , 88.4 , 68.7 ]])"
      ]
     },
     "execution_count": 74,
     "metadata": {},
     "output_type": "execute_result"
    }
   ],
   "source": [
    "np_2d = np.array([\n",
    "    [1.73, 1.68, 1.71, 1.89, 1.79],\n",
    "    [65.4, 69.2, 63.6, 88.4, 68.7]\n",
    "])\n",
    "np_2d"
   ]
  },
  {
   "cell_type": "markdown",
   "id": "5565b172",
   "metadata": {},
   "source": [
    "###### ndarray.shape Matrisin kaç satır ve sütun olduğunu gösterir "
   ]
  },
  {
   "cell_type": "code",
   "execution_count": 75,
   "id": "a94d9705",
   "metadata": {
    "scrolled": true
   },
   "outputs": [
    {
     "data": {
      "text/plain": [
       "(3, 3)"
      ]
     },
     "execution_count": 75,
     "metadata": {},
     "output_type": "execute_result"
    }
   ],
   "source": [
    "matrix.shape"
   ]
  },
  {
   "cell_type": "markdown",
   "id": "9c857225",
   "metadata": {},
   "source": [
    "###### Aşağıdaki ifade 0'ıncı satırı verir "
   ]
  },
  {
   "cell_type": "code",
   "execution_count": 76,
   "id": "f0604df5",
   "metadata": {},
   "outputs": [
    {
     "data": {
      "text/plain": [
       "array([1.73, 1.68, 1.71, 1.89, 1.79])"
      ]
     },
     "execution_count": 76,
     "metadata": {},
     "output_type": "execute_result"
    }
   ],
   "source": [
    "np_2d[0]"
   ]
  },
  {
   "cell_type": "markdown",
   "id": "2d947dc2",
   "metadata": {},
   "source": [
    "###### Aşağıdaki 2 ifade de aynı şeyi verir "
   ]
  },
  {
   "cell_type": "code",
   "execution_count": 77,
   "id": "f2ea47fe",
   "metadata": {},
   "outputs": [
    {
     "data": {
      "text/plain": [
       "1.71"
      ]
     },
     "execution_count": 77,
     "metadata": {},
     "output_type": "execute_result"
    }
   ],
   "source": [
    "np_2d[0][2]\n",
    "np_2d[0,2]"
   ]
  },
  {
   "cell_type": "markdown",
   "id": "219549e2",
   "metadata": {},
   "source": [
    "###### Bütün satırların 1'den 3. indexe kadar olan elemanlarını verir "
   ]
  },
  {
   "cell_type": "code",
   "execution_count": 78,
   "id": "dad0a14d",
   "metadata": {
    "scrolled": true
   },
   "outputs": [
    {
     "data": {
      "text/plain": [
       "array([[ 1.68,  1.71],\n",
       "       [69.2 , 63.6 ]])"
      ]
     },
     "execution_count": 78,
     "metadata": {},
     "output_type": "execute_result"
    }
   ],
   "source": [
    "np_2d[:, 1:3]"
   ]
  },
  {
   "cell_type": "markdown",
   "id": "2e4b3cf4",
   "metadata": {},
   "source": [
    "###### 1. satırdan 2. satıra kadar ve 0. sütundan 2. sütuna kadar olan değerleri verir "
   ]
  },
  {
   "cell_type": "code",
   "execution_count": 79,
   "id": "1c700da5",
   "metadata": {},
   "outputs": [
    {
     "data": {
      "text/plain": [
       "array([[21., 22.]])"
      ]
     },
     "execution_count": 79,
     "metadata": {},
     "output_type": "execute_result"
    }
   ],
   "source": [
    "matrix[1:2, 0:2]"
   ]
  },
  {
   "cell_type": "markdown",
   "id": "708abe67",
   "metadata": {},
   "source": [
    "###### 1. Satırdaki bütün elemanları verir"
   ]
  },
  {
   "cell_type": "code",
   "execution_count": 80,
   "id": "ec1b82f0",
   "metadata": {
    "scrolled": true
   },
   "outputs": [
    {
     "data": {
      "text/plain": [
       "array([65.4, 69.2, 63.6, 88.4, 68.7])"
      ]
     },
     "execution_count": 80,
     "metadata": {},
     "output_type": "execute_result"
    }
   ],
   "source": [
    "np_2d[1, :]"
   ]
  },
  {
   "cell_type": "markdown",
   "id": "bcceac17",
   "metadata": {},
   "source": [
    "###### İki matrisi dikey (vertically) olarak birleştirmek içi \"np.vstack((.....))\" kullanılır. "
   ]
  },
  {
   "cell_type": "code",
   "execution_count": 81,
   "id": "5417d33b",
   "metadata": {},
   "outputs": [],
   "source": [
    "vertical1 = np.array([\n",
    "    [11,12,13],\n",
    "    [21,22,23],\n",
    "    [31,32,33]\n",
    "])\n",
    "\n",
    "vertical2 = np.array([\n",
    "    [41,42,43],\n",
    "    [51,52,53]\n",
    "])"
   ]
  },
  {
   "cell_type": "markdown",
   "id": "2a42ba8d",
   "metadata": {},
   "source": [
    "+ Aşağıdaki işlem hata verecektir çünkü matrisler aynı boyutta değiller "
   ]
  },
  {
   "cell_type": "code",
   "execution_count": 82,
   "id": "9bfcb1f2",
   "metadata": {
    "scrolled": false
   },
   "outputs": [
    {
     "ename": "ValueError",
     "evalue": "operands could not be broadcast together with shapes (3,3) (2,3) ",
     "output_type": "error",
     "traceback": [
      "\u001b[1;31m---------------------------------------------------------------------------\u001b[0m",
      "\u001b[1;31mValueError\u001b[0m                                Traceback (most recent call last)",
      "\u001b[1;32m~\\AppData\\Local\\Temp/ipykernel_11524/2033314032.py\u001b[0m in \u001b[0;36m<module>\u001b[1;34m\u001b[0m\n\u001b[1;32m----> 1\u001b[1;33m \u001b[0mvertical1\u001b[0m \u001b[1;33m+\u001b[0m \u001b[0mvertical2\u001b[0m\u001b[1;33m\u001b[0m\u001b[1;33m\u001b[0m\u001b[0m\n\u001b[0m",
      "\u001b[1;31mValueError\u001b[0m: operands could not be broadcast together with shapes (3,3) (2,3) "
     ]
    }
   ],
   "source": [
    "vertical1 + vertical2"
   ]
  },
  {
   "cell_type": "markdown",
   "id": "bc13e810",
   "metadata": {},
   "source": [
    "+ np.vstack((....)) tek bir parametre alır ve o da tuple şeklindedir. Eğer tuple şeklinde vermezsek aşağıdaki kod bloğunda olduğu gibi hata verir "
   ]
  },
  {
   "cell_type": "code",
   "execution_count": 83,
   "id": "b94df1d0",
   "metadata": {
    "scrolled": true
   },
   "outputs": [
    {
     "ename": "TypeError",
     "evalue": "_vhstack_dispatcher() takes 1 positional argument but 2 were given",
     "output_type": "error",
     "traceback": [
      "\u001b[1;31m---------------------------------------------------------------------------\u001b[0m",
      "\u001b[1;31mTypeError\u001b[0m                                 Traceback (most recent call last)",
      "\u001b[1;32m~\\AppData\\Local\\Temp/ipykernel_11524/1464265331.py\u001b[0m in \u001b[0;36m<module>\u001b[1;34m\u001b[0m\n\u001b[1;32m----> 1\u001b[1;33m \u001b[0mvertical3\u001b[0m \u001b[1;33m=\u001b[0m \u001b[0mnp\u001b[0m\u001b[1;33m.\u001b[0m\u001b[0mvstack\u001b[0m\u001b[1;33m(\u001b[0m\u001b[0mvertical1\u001b[0m\u001b[1;33m,\u001b[0m \u001b[0mvertical2\u001b[0m\u001b[1;33m)\u001b[0m\u001b[1;33m\u001b[0m\u001b[1;33m\u001b[0m\u001b[0m\n\u001b[0m",
      "\u001b[1;32m<__array_function__ internals>\u001b[0m in \u001b[0;36mvstack\u001b[1;34m(*args, **kwargs)\u001b[0m\n",
      "\u001b[1;31mTypeError\u001b[0m: _vhstack_dispatcher() takes 1 positional argument but 2 were given"
     ]
    }
   ],
   "source": [
    "vertical3 = np.vstack(vertical1, vertical2)"
   ]
  },
  {
   "cell_type": "markdown",
   "id": "4b78eea1",
   "metadata": {},
   "source": [
    "+ Doğrusu aşağıdaki gibidir"
   ]
  },
  {
   "cell_type": "code",
   "execution_count": 84,
   "id": "f3a502e0",
   "metadata": {
    "scrolled": true
   },
   "outputs": [
    {
     "data": {
      "text/plain": [
       "array([[11, 12, 13],\n",
       "       [21, 22, 23],\n",
       "       [31, 32, 33],\n",
       "       [41, 42, 43],\n",
       "       [51, 52, 53]])"
      ]
     },
     "execution_count": 84,
     "metadata": {},
     "output_type": "execute_result"
    }
   ],
   "source": [
    "vertical4 = np.vstack((vertical1, vertical2))\n",
    "vertical4"
   ]
  },
  {
   "cell_type": "markdown",
   "id": "84bafb38",
   "metadata": {},
   "source": [
    "###### İki matrisi yatay (horizontally) olarak birleştirmek için \"np.hstack((.....))\" kullanılır."
   ]
  },
  {
   "cell_type": "code",
   "execution_count": 85,
   "id": "9122a56d",
   "metadata": {},
   "outputs": [],
   "source": [
    "horizontal1 = np.array([\n",
    "    [1,1],\n",
    "    [2,2]\n",
    "])\n",
    "\n",
    "horizontal2 = np.array([\n",
    "    [3,3],\n",
    "    [4,4]\n",
    "])"
   ]
  },
  {
   "cell_type": "markdown",
   "id": "8e618a28",
   "metadata": {},
   "source": [
    "+ np.hstack((.....)) de 1 parametre alır ve o parametre tuple şeklinde olmalıdır"
   ]
  },
  {
   "cell_type": "code",
   "execution_count": 86,
   "id": "9b6d4bde",
   "metadata": {},
   "outputs": [
    {
     "data": {
      "text/plain": [
       "array([[1, 1, 3, 3],\n",
       "       [2, 2, 4, 4]])"
      ]
     },
     "execution_count": 86,
     "metadata": {},
     "output_type": "execute_result"
    }
   ],
   "source": [
    "horizontal3 = np.hstack((horizontal1, horizontal2))\n",
    "horizontal3"
   ]
  },
  {
   "cell_type": "markdown",
   "id": "c1237e6f",
   "metadata": {},
   "source": [
    "## İstatistik ile İlgili Komutlar"
   ]
  },
  {
   "cell_type": "code",
   "execution_count": 87,
   "id": "de355dfe",
   "metadata": {},
   "outputs": [
    {
     "data": {
      "text/plain": [
       "array([ 8.64276824, 11.38773917, 12.6141566 , 16.81463573, 12.8661481 ,\n",
       "        9.39652627,  7.28649411, 15.95060815, 13.89885839, 16.0054609 ,\n",
       "        9.72757762, 13.18401093, 14.19142515, 13.35155072, 10.71857201,\n",
       "       12.01208424,  8.46367389,  7.97334094, 10.27410645, 12.57660604,\n",
       "        9.65662432,  9.72042195,  7.98697912,  9.45161147, 12.49758915,\n",
       "       14.71603527,  6.05132861, 11.52056651,  6.62614401,  8.65134082,\n",
       "        9.65992193,  5.95264068, 10.84323082,  5.10511483, 12.0064331 ,\n",
       "        9.29111011,  9.17795292,  8.09787118, 10.45198613, 12.52249168,\n",
       "        7.8315872 , 12.99321436, 12.13847472,  7.1538216 , 10.03941763,\n",
       "        6.40998339, 15.94282961, 14.5847147 ,  9.62679821,  9.73033519,\n",
       "       14.22813139,  9.8295091 , 11.84162721,  8.84431708,  8.40064628,\n",
       "        9.6004354 ,  7.63756325, 13.50289555,  9.66210876,  9.84324038,\n",
       "        6.35393173,  8.78590381, 13.92766291, 12.40099606, 10.51907894,\n",
       "       13.31591531, 14.18606854, 10.92844661, 10.3479008 , 12.12575134,\n",
       "        4.6409564 ,  9.80884079, 10.58200348, 13.42081048,  6.18272338,\n",
       "       10.98567419, 11.68188171,  3.63920404, 11.84269802,  9.34656358,\n",
       "        9.07423712,  8.33464267,  7.79521444, 12.45808153, 12.72793741,\n",
       "        9.31316492, 12.81638198,  2.72161048, 13.44452616,  4.11130815,\n",
       "       12.64353385, 12.16946284, 11.89103045, 11.43148942, 12.44472964,\n",
       "        7.01538562, 12.80051921,  9.31188934, 13.19224394, 11.28225534])"
      ]
     },
     "execution_count": 87,
     "metadata": {},
     "output_type": "execute_result"
    }
   ],
   "source": [
    "stat_array = np.random.normal(loc = 10, scale = 3, size = 100) #Ortalaması 10, standart sapması 3 olan bir normal dağılımlı dizi\n",
    "stat_array"
   ]
  },
  {
   "cell_type": "markdown",
   "id": "4a23e88b",
   "metadata": {},
   "source": [
    "###### Ortalamayı hesaplama "
   ]
  },
  {
   "cell_type": "code",
   "execution_count": 88,
   "id": "e3aea903",
   "metadata": {},
   "outputs": [
    {
     "data": {
      "text/plain": [
       "10.491680459170828"
      ]
     },
     "execution_count": 88,
     "metadata": {},
     "output_type": "execute_result"
    }
   ],
   "source": [
    "mean = np.mean(stat_array) \n",
    "mean"
   ]
  },
  {
   "cell_type": "markdown",
   "id": "a30be453",
   "metadata": {},
   "source": [
    "###### Medyanı hesaplama "
   ]
  },
  {
   "cell_type": "code",
   "execution_count": 89,
   "id": "0921b5c3",
   "metadata": {},
   "outputs": [
    {
     "data": {
      "text/plain": [
       "10.485532531861587"
      ]
     },
     "execution_count": 89,
     "metadata": {},
     "output_type": "execute_result"
    }
   ],
   "source": [
    "median = np.median(stat_array) \n",
    "median"
   ]
  },
  {
   "cell_type": "markdown",
   "id": "d2a714d2",
   "metadata": {},
   "source": [
    "###### Dizideki elemanları küçükten büyüğe sıralama "
   ]
  },
  {
   "cell_type": "code",
   "execution_count": 90,
   "id": "d4d90301",
   "metadata": {},
   "outputs": [
    {
     "data": {
      "text/plain": [
       "array([ 2.72161048,  3.63920404,  4.11130815,  4.6409564 ,  5.10511483,\n",
       "        5.95264068,  6.05132861,  6.18272338,  6.35393173,  6.40998339,\n",
       "        6.62614401,  7.01538562,  7.1538216 ,  7.28649411,  7.63756325,\n",
       "        7.79521444,  7.8315872 ,  7.97334094,  7.98697912,  8.09787118,\n",
       "        8.33464267,  8.40064628,  8.46367389,  8.64276824,  8.65134082,\n",
       "        8.78590381,  8.84431708,  9.07423712,  9.17795292,  9.29111011,\n",
       "        9.31188934,  9.31316492,  9.34656358,  9.39652627,  9.45161147,\n",
       "        9.6004354 ,  9.62679821,  9.65662432,  9.65992193,  9.66210876,\n",
       "        9.72042195,  9.72757762,  9.73033519,  9.80884079,  9.8295091 ,\n",
       "        9.84324038, 10.03941763, 10.27410645, 10.3479008 , 10.45198613,\n",
       "       10.51907894, 10.58200348, 10.71857201, 10.84323082, 10.92844661,\n",
       "       10.98567419, 11.28225534, 11.38773917, 11.43148942, 11.52056651,\n",
       "       11.68188171, 11.84162721, 11.84269802, 11.89103045, 12.0064331 ,\n",
       "       12.01208424, 12.12575134, 12.13847472, 12.16946284, 12.40099606,\n",
       "       12.44472964, 12.45808153, 12.49758915, 12.52249168, 12.57660604,\n",
       "       12.6141566 , 12.64353385, 12.72793741, 12.80051921, 12.81638198,\n",
       "       12.8661481 , 12.99321436, 13.18401093, 13.19224394, 13.31591531,\n",
       "       13.35155072, 13.42081048, 13.44452616, 13.50289555, 13.89885839,\n",
       "       13.92766291, 14.18606854, 14.19142515, 14.22813139, 14.5847147 ,\n",
       "       14.71603527, 15.94282961, 15.95060815, 16.0054609 , 16.81463573])"
      ]
     },
     "execution_count": 90,
     "metadata": {},
     "output_type": "execute_result"
    }
   ],
   "source": [
    "sort_stat_array = np.sort(stat_array) \n",
    "sort_stat_array"
   ]
  },
  {
   "cell_type": "markdown",
   "id": "b6b29996",
   "metadata": {},
   "source": [
    "###### Varyansı Hesaplama "
   ]
  },
  {
   "cell_type": "code",
   "execution_count": 91,
   "id": "fd69fc3c",
   "metadata": {},
   "outputs": [
    {
     "data": {
      "text/plain": [
       "8.080006778326121"
      ]
     },
     "execution_count": 91,
     "metadata": {},
     "output_type": "execute_result"
    }
   ],
   "source": [
    "variance = np.var(stat_array) \n",
    "variance"
   ]
  },
  {
   "cell_type": "markdown",
   "id": "5d06ef79",
   "metadata": {},
   "source": [
    "###### Standart sapmayı hesaplama"
   ]
  },
  {
   "cell_type": "code",
   "execution_count": 92,
   "id": "90f337d3",
   "metadata": {},
   "outputs": [
    {
     "data": {
      "text/plain": [
       "2.842535273013533"
      ]
     },
     "execution_count": 92,
     "metadata": {},
     "output_type": "execute_result"
    }
   ],
   "source": [
    "standart_deviation = np.std(stat_array) \n",
    "standart_deviation"
   ]
  },
  {
   "cell_type": "markdown",
   "id": "4c4c9699",
   "metadata": {},
   "source": [
    "###### Yüzdelikleri hesaplama (25, 50, 75) (1. , 2. , 3.) "
   ]
  },
  {
   "cell_type": "code",
   "execution_count": 93,
   "id": "f0934584",
   "metadata": {},
   "outputs": [],
   "source": [
    "percentile1 = np.percentile(stat_array, 25) \n",
    "percentile2 = np.percentile(stat_array, 50)\n",
    "percentile3 = np.percentile(stat_array, 75)"
   ]
  },
  {
   "cell_type": "code",
   "execution_count": 94,
   "id": "1ed2c877",
   "metadata": {},
   "outputs": [
    {
     "name": "stdout",
     "output_type": "stream",
     "text": [
      "8.752263063810164\n",
      "10.485532531861587\n",
      "12.585993682530805\n"
     ]
    }
   ],
   "source": [
    "print(percentile1)\n",
    "print(percentile2)\n",
    "print(percentile3)"
   ]
  },
  {
   "cell_type": "markdown",
   "id": "232105b5",
   "metadata": {},
   "source": [
    "###### Çeyreklikleri hesaplama (0.25, 0.50, 0.75) (1. , 2. , 3.) "
   ]
  },
  {
   "cell_type": "code",
   "execution_count": 95,
   "id": "f90c7238",
   "metadata": {},
   "outputs": [],
   "source": [
    "quantile1 = np.quantile(stat_array, 0.25) \n",
    "quantile2 = np.quantile(stat_array, 0.50)\n",
    "quantile3 = np.quantile(stat_array, 0.75)"
   ]
  },
  {
   "cell_type": "code",
   "execution_count": 96,
   "id": "870f2c21",
   "metadata": {},
   "outputs": [
    {
     "name": "stdout",
     "output_type": "stream",
     "text": [
      "8.752263063810164\n",
      "10.485532531861587\n",
      "12.585993682530805\n"
     ]
    }
   ],
   "source": [
    "print(quantile1)\n",
    "print(quantile2)\n",
    "print(quantile3)"
   ]
  },
  {
   "cell_type": "markdown",
   "id": "9718dba6",
   "metadata": {},
   "source": [
    "###### Range (Max - Min) hesaplama --> np.max(stat_array) - np.min(stat_array) ile aynı şeyi verir "
   ]
  },
  {
   "cell_type": "code",
   "execution_count": 97,
   "id": "6a6bf82a",
   "metadata": {},
   "outputs": [
    {
     "data": {
      "text/plain": [
       "14.093025243828073"
      ]
     },
     "execution_count": 97,
     "metadata": {},
     "output_type": "execute_result"
    }
   ],
   "source": [
    "ptp = np.ptp(stat_array) \n",
    "ptp"
   ]
  },
  {
   "cell_type": "markdown",
   "id": "2e2b6b2a",
   "metadata": {},
   "source": [
    "###### Korelasyon katsayısını hesaplama "
   ]
  },
  {
   "cell_type": "code",
   "execution_count": 98,
   "id": "78d01965",
   "metadata": {},
   "outputs": [],
   "source": [
    "array1 = np.random.normal(size = 25)\n",
    "array2 = np.random.normal(size = 25)"
   ]
  },
  {
   "cell_type": "code",
   "execution_count": 99,
   "id": "c84c8645",
   "metadata": {},
   "outputs": [
    {
     "data": {
      "text/plain": [
       "array([-0.42995059,  0.92021577,  1.240665  , -0.69334601, -0.20259938,\n",
       "       -1.31033462, -0.18655838, -0.37130447, -0.10476839,  0.01963775,\n",
       "        0.39874727,  1.00088044, -0.0211806 , -0.41875026,  1.24336603,\n",
       "        1.19082765, -1.15225582,  0.78848305, -0.53453788, -0.90618338,\n",
       "        1.79972414,  0.9907023 , -0.59911671,  0.18836233,  2.12589716])"
      ]
     },
     "execution_count": 99,
     "metadata": {},
     "output_type": "execute_result"
    }
   ],
   "source": [
    "array1"
   ]
  },
  {
   "cell_type": "code",
   "execution_count": 100,
   "id": "1c57da2d",
   "metadata": {},
   "outputs": [
    {
     "data": {
      "text/plain": [
       "array([-2.07966564,  0.22385986, -1.05294318,  0.5792365 , -1.54128028,\n",
       "       -0.05938528, -0.71897179,  1.78230937,  0.52381426, -0.8866895 ,\n",
       "       -0.30442643,  1.07704722,  0.89083734, -0.87684916,  0.89604747,\n",
       "       -0.70349867,  0.53127048, -0.63231221, -1.20254037,  2.10371146,\n",
       "        1.45755592,  0.01814145,  0.66047345,  1.25819594,  0.59144424])"
      ]
     },
     "execution_count": 100,
     "metadata": {},
     "output_type": "execute_result"
    }
   ],
   "source": [
    "array2"
   ]
  },
  {
   "cell_type": "code",
   "execution_count": 101,
   "id": "b285a6d4",
   "metadata": {},
   "outputs": [
    {
     "data": {
      "text/plain": [
       "array([[1.        , 0.06798792],\n",
       "       [0.06798792, 1.        ]])"
      ]
     },
     "execution_count": 101,
     "metadata": {},
     "output_type": "execute_result"
    }
   ],
   "source": [
    "corelation = np.corrcoef(x = array1, y = array2) \n",
    "corelation"
   ]
  },
  {
   "cell_type": "markdown",
   "id": "b89f468a",
   "metadata": {},
   "source": [
    "###### Kovaryansı hesaplama "
   ]
  },
  {
   "cell_type": "code",
   "execution_count": 102,
   "id": "5742eaaa",
   "metadata": {},
   "outputs": [
    {
     "data": {
      "text/plain": [
       "array([[0.85392773, 0.06768563],\n",
       "       [0.06768563, 1.16066878]])"
      ]
     },
     "execution_count": 102,
     "metadata": {},
     "output_type": "execute_result"
    }
   ],
   "source": [
    "covariance = np.cov(m = array1, y = array2) \n",
    "covariance"
   ]
  }
 ],
 "metadata": {
  "kernelspec": {
   "display_name": "Python 3 (ipykernel)",
   "language": "python",
   "name": "python3"
  },
  "language_info": {
   "codemirror_mode": {
    "name": "ipython",
    "version": 3
   },
   "file_extension": ".py",
   "mimetype": "text/x-python",
   "name": "python",
   "nbconvert_exporter": "python",
   "pygments_lexer": "ipython3",
   "version": "3.9.7"
  }
 },
 "nbformat": 4,
 "nbformat_minor": 5
}
